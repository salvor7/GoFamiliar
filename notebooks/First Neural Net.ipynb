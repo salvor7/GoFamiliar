{
 "cells": [
  {
   "cell_type": "code",
   "execution_count": 1,
   "metadata": {},
   "outputs": [
    {
     "name": "stderr",
     "output_type": "stream",
     "text": [
      "Using TensorFlow backend.\n"
     ]
    }
   ],
   "source": [
    "import keras\n",
    "from keras import backend as K\n",
    "from keras.utils.np_utils import to_categorical"
   ]
  },
  {
   "cell_type": "code",
   "execution_count": 2,
   "metadata": {},
   "outputs": [
    {
     "data": {
      "text/plain": [
       "'channels_last'"
      ]
     },
     "execution_count": 2,
     "metadata": {},
     "output_type": "execute_result"
    }
   ],
   "source": [
    "keras.backend.image_data_format()"
   ]
  },
  {
   "cell_type": "code",
   "execution_count": 3,
   "metadata": {
    "collapsed": true
   },
   "outputs": [],
   "source": [
    "from quilt.data.andrewbrown import gofamiliar"
   ]
  },
  {
   "cell_type": "code",
   "execution_count": 4,
   "metadata": {
    "collapsed": true
   },
   "outputs": [],
   "source": [
    "import numpy as np"
   ]
  },
  {
   "cell_type": "code",
   "execution_count": 5,
   "metadata": {
    "collapsed": true
   },
   "outputs": [],
   "source": [
    "def rewardloss(yTrue, yPred):\n",
    "    return -K.dot(yTrue, K.transpose(yPred))"
   ]
  },
  {
   "cell_type": "code",
   "execution_count": 23,
   "metadata": {},
   "outputs": [],
   "source": [
    "all_inputs = np.load(gofamiliar.positions()).reshape(430,9,9,3)"
   ]
  },
  {
   "cell_type": "code",
   "execution_count": 24,
   "metadata": {
    "collapsed": true
   },
   "outputs": [],
   "source": [
    "labels = to_categorical(np.load(gofamiliar.moves()))"
   ]
  },
  {
   "cell_type": "code",
   "execution_count": 25,
   "metadata": {},
   "outputs": [
    {
     "data": {
      "text/plain": [
       "(430, 83)"
      ]
     },
     "execution_count": 25,
     "metadata": {},
     "output_type": "execute_result"
    }
   ],
   "source": [
    "labels.shape"
   ]
  },
  {
   "cell_type": "code",
   "execution_count": 26,
   "metadata": {
    "collapsed": true
   },
   "outputs": [],
   "source": [
    "inputs = keras.layers.Input(shape=(9,9,3))"
   ]
  },
  {
   "cell_type": "code",
   "execution_count": 27,
   "metadata": {
    "collapsed": true
   },
   "outputs": [],
   "source": [
    "conv = keras.layers.Convolution2D(filters=16, kernel_size=(3,3), activation='elu')(inputs)"
   ]
  },
  {
   "cell_type": "code",
   "execution_count": 28,
   "metadata": {
    "collapsed": true
   },
   "outputs": [],
   "source": [
    "flat = keras.layers.Flatten()(conv)"
   ]
  },
  {
   "cell_type": "code",
   "execution_count": 29,
   "metadata": {},
   "outputs": [],
   "source": [
    "hidden = keras.layers.Dense(2**10, activation='elu')(flat)"
   ]
  },
  {
   "cell_type": "code",
   "execution_count": 30,
   "metadata": {
    "collapsed": true
   },
   "outputs": [],
   "source": [
    "bn = keras.layers.BatchNormalization()(hidden)"
   ]
  },
  {
   "cell_type": "code",
   "execution_count": 31,
   "metadata": {
    "collapsed": true
   },
   "outputs": [],
   "source": [
    "output = keras.layers.Dense(83, activation='softmax')(bn)"
   ]
  },
  {
   "cell_type": "code",
   "execution_count": 32,
   "metadata": {
    "collapsed": true
   },
   "outputs": [],
   "source": [
    "model = keras.models.Model(inputs=inputs, outputs=output)"
   ]
  },
  {
   "cell_type": "code",
   "execution_count": 33,
   "metadata": {
    "collapsed": true
   },
   "outputs": [],
   "source": [
    "model.compile(optimizer='rmsprop',\n",
    "              loss=rewardloss)"
   ]
  },
  {
   "cell_type": "code",
   "execution_count": 34,
   "metadata": {},
   "outputs": [],
   "source": [
    "preds = model.predict(np.load(gofamiliar.positions()).reshape(430,9,9,3))"
   ]
  },
  {
   "cell_type": "code",
   "execution_count": 35,
   "metadata": {},
   "outputs": [
    {
     "data": {
      "text/plain": [
       "array([[ 0.012,  0.012,  0.011, ...,  0.018,  0.008,  0.009],\n",
       "       [ 0.013,  0.01 ,  0.013, ...,  0.015,  0.009,  0.009],\n",
       "       [ 0.018,  0.017,  0.009, ...,  0.017,  0.007,  0.011],\n",
       "       ..., \n",
       "       [ 0.013,  0.012,  0.01 , ...,  0.015,  0.009,  0.01 ],\n",
       "       [ 0.013,  0.01 ,  0.011, ...,  0.014,  0.009,  0.011],\n",
       "       [ 0.008,  0.01 ,  0.009, ...,  0.014,  0.011,  0.012]], dtype=float32)"
      ]
     },
     "execution_count": 35,
     "metadata": {},
     "output_type": "execute_result"
    }
   ],
   "source": [
    "np.round(preds,decimals=3)"
   ]
  },
  {
   "cell_type": "code",
   "execution_count": 36,
   "metadata": {
    "scrolled": false
   },
   "outputs": [
    {
     "name": "stdout",
     "output_type": "stream",
     "text": [
      "Epoch 1/10\n",
      "430/430 [==============================] - ETA: 3s - loss: 0.011 - ETA: 0s - loss: 0.013 - 0s - loss: 0.0117     \n",
      "Epoch 2/10\n",
      "430/430 [==============================] - ETA: 0s - loss: 7.6058e-0 - ETA: 0s - loss: 0.0056    - 0s - loss: 0.0049     \n",
      "Epoch 3/10\n",
      "430/430 [==============================] - ETA: 0s - loss: 0.003 - ETA: 0s - loss: 0.002 - 0s - loss: 0.0031     \n",
      "Epoch 4/10\n",
      "430/430 [==============================] - ETA: 0s - loss: 6.0854e-0 - ETA: 0s - loss: 0.0034    - 0s - loss: 0.0034     \n",
      "Epoch 5/10\n",
      "430/430 [==============================] - ETA: 0s - loss: 0.006 - ETA: 0s - loss: 0.004 - 0s - loss: 0.0036     \n",
      "Epoch 6/10\n",
      "430/430 [==============================] - ETA: 0s - loss: 9.6008e-0 - ETA: 0s - loss: 0.0017    - 0s - loss: 0.0020     \n",
      "Epoch 7/10\n",
      "430/430 [==============================] - ETA: 0s - loss: 0.012 - ETA: 0s - loss: 0.003 - 0s - loss: 0.0025     \n",
      "Epoch 8/10\n",
      "430/430 [==============================] - ETA: 0s - loss: 1.0355e-0 - ETA: 0s - loss: 9.5348e-0 - 0s - loss: 0.0024         \n",
      "Epoch 9/10\n",
      "430/430 [==============================] - ETA: 0s - loss: 3.0376e-0 - ETA: 0s - loss: 0.0025    - 0s - loss: 0.0021     \n",
      "Epoch 10/10\n",
      "430/430 [==============================] - ETA: 0s - loss: 0.005 - ETA: 0s - loss: 0.002 - 0s - loss: 0.0018     \n"
     ]
    }
   ],
   "source": [
    "model.fit(all_inputs, -labels, epochs=10,);"
   ]
  },
  {
   "cell_type": "code",
   "execution_count": 37,
   "metadata": {},
   "outputs": [
    {
     "data": {
      "text/plain": [
       "array([[ 0.022     ,  0.        ,  0.        , ...,  0.96899998,\n",
       "         0.        ,  0.        ],\n",
       "       [ 0.002     ,  0.001     ,  0.019     , ...,  0.117     ,\n",
       "         0.002     ,  0.003     ],\n",
       "       [ 0.47099999,  0.002     ,  0.002     , ...,  0.        ,\n",
       "         0.001     ,  0.        ],\n",
       "       ..., \n",
       "       [ 0.093     ,  0.001     ,  0.001     , ...,  0.57599998,\n",
       "         0.001     ,  0.001     ],\n",
       "       [ 0.84299999,  0.        ,  0.        , ...,  0.12800001,\n",
       "         0.        ,  0.        ],\n",
       "       [ 0.        ,  0.001     ,  0.        , ...,  0.        ,\n",
       "         0.001     ,  0.001     ]], dtype=float32)"
      ]
     },
     "execution_count": 37,
     "metadata": {},
     "output_type": "execute_result"
    }
   ],
   "source": [
    "preds = model.predict(all_inputs)\n",
    "np.round(preds,decimals=3)"
   ]
  },
  {
   "cell_type": "code",
   "execution_count": 38,
   "metadata": {},
   "outputs": [
    {
     "data": {
      "text/plain": [
       "(430, 3, 9, 9)"
      ]
     },
     "execution_count": 38,
     "metadata": {},
     "output_type": "execute_result"
    }
   ],
   "source": [
    "np.load(gofamiliar.positions()).shape"
   ]
  },
  {
   "cell_type": "code",
   "execution_count": null,
   "metadata": {
    "collapsed": true
   },
   "outputs": [],
   "source": []
  }
 ],
 "metadata": {
  "kernelspec": {
   "display_name": "Python [conda env:openai]",
   "language": "python",
   "name": "conda-env-openai-py"
  },
  "language_info": {
   "codemirror_mode": {
    "name": "ipython",
    "version": 3
   },
   "file_extension": ".py",
   "mimetype": "text/x-python",
   "name": "python",
   "nbconvert_exporter": "python",
   "pygments_lexer": "ipython3",
   "version": "3.6.2"
  }
 },
 "nbformat": 4,
 "nbformat_minor": 2
}
