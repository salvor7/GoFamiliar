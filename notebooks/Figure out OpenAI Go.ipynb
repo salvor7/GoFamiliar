{
 "cells": [
  {
   "cell_type": "code",
   "execution_count": 1,
   "metadata": {},
   "outputs": [],
   "source": [
    "import gym"
   ]
  },
  {
   "cell_type": "code",
   "execution_count": 2,
   "metadata": {},
   "outputs": [
    {
     "name": "stderr",
     "output_type": "stream",
     "text": [
      "[2017-10-03 12:57:02,396] Making new env: Go9x9-v0\n"
     ]
    }
   ],
   "source": [
    "env = gym.make('Go9x9-v0')"
   ]
  },
  {
   "cell_type": "code",
   "execution_count": 4,
   "metadata": {
    "scrolled": false
   },
   "outputs": [],
   "source": [
    "bad_moves = []\n",
    "\n",
    "for idx in range(10):\n",
    "    env.reset()\n",
    "    done = False\n",
    "    while not done:\n",
    "        move = env.action_space.sample()\n",
    "        obser, reward, done, info = env.step(move)\n",
    "    bad_moves.append((obser, move, reward))\n",
    "    if idx % 500 == 499:\n",
    "        print(info)"
   ]
  },
  {
   "cell_type": "code",
   "execution_count": 101,
   "metadata": {},
   "outputs": [
    {
     "data": {
      "text/plain": [
       "(-1.0, True, {'state': To play: black\n",
       "  Move:   0  Komi: 0.0  Handicap: 0  Captures B: 0 W: 0\n",
       "        A B C D E F G H J  \n",
       "      +-------------------+\n",
       "    9 | . . . . . . . . . |\n",
       "    8 | . . . . . . . . . |\n",
       "    7 | . . . . . . . . . |\n",
       "    6 | . . . . . . . . . |\n",
       "    5 | . . . . . . . . . |\n",
       "    4 | . . . . . . . . . |\n",
       "    3 | . . . . . . . . . |\n",
       "    2 | . . . . . . . . . |\n",
       "    1 | . . . . . . . . . |\n",
       "      +-------------------+})"
      ]
     },
     "execution_count": 101,
     "metadata": {},
     "output_type": "execute_result"
    }
   ],
   "source": [
    "env.reset()\n",
    "obs, reward, done, info = env.step(82)\n",
    "reward, done, info"
   ]
  },
  {
   "cell_type": "code",
   "execution_count": 102,
   "metadata": {},
   "outputs": [
    {
     "data": {
      "text/plain": [
       "10000"
      ]
     },
     "execution_count": 102,
     "metadata": {},
     "output_type": "execute_result"
    }
   ],
   "source": [
    "len(bad_moves)"
   ]
  },
  {
   "cell_type": "code",
   "execution_count": 85,
   "metadata": {},
   "outputs": [],
   "source": [
    "import numpy as np"
   ]
  },
  {
   "cell_type": "code",
   "execution_count": 107,
   "metadata": {
    "scrolled": false
   },
   "outputs": [],
   "source": [
    "from quilt.data.andrewbrown import gofamiliar"
   ]
  },
  {
   "cell_type": "code",
   "execution_count": 86,
   "metadata": {},
   "outputs": [],
   "source": [
    "positions, moves, rewards = [np.array(l) for l in list(zip(*bad_moves))]"
   ]
  },
  {
   "cell_type": "code",
   "execution_count": null,
   "metadata": {},
   "outputs": [],
   "source": [
    "positions = np.concatenate([np.load(gofamiliar.positions()), positions,])"
   ]
  },
  {
   "cell_type": "code",
   "execution_count": 122,
   "metadata": {},
   "outputs": [],
   "source": [
    "moves = np.concatenate([np.load(gofamiliar.moves()), moves,])"
   ]
  },
  {
   "cell_type": "code",
   "execution_count": 123,
   "metadata": {},
   "outputs": [],
   "source": [
    "rewards = np.concatenate([np.load(gofamiliar.rewards()), rewards])"
   ]
  },
  {
   "cell_type": "code",
   "execution_count": 124,
   "metadata": {},
   "outputs": [],
   "source": [
    "np.save('../data/moves', moves)\n",
    "np.save('../data/rewards', rewards)\n",
    "np.save('../data/positions', positions)"
   ]
  }
 ],
 "metadata": {
  "kernelspec": {
   "display_name": "Python [conda env:openai]",
   "language": "python",
   "name": "conda-env-openai-py"
  },
  "language_info": {
   "codemirror_mode": {
    "name": "ipython",
    "version": 3
   },
   "file_extension": ".py",
   "mimetype": "text/x-python",
   "name": "python",
   "nbconvert_exporter": "python",
   "pygments_lexer": "ipython3",
   "version": "3.5.4"
  }
 },
 "nbformat": 4,
 "nbformat_minor": 2
}
