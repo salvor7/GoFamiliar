{
 "cells": [
  {
   "cell_type": "code",
   "execution_count": 1,
   "metadata": {},
   "outputs": [],
   "source": [
    "import gym"
   ]
  },
  {
   "cell_type": "code",
   "execution_count": 2,
   "metadata": {},
   "outputs": [
    {
     "name": "stderr",
     "output_type": "stream",
     "text": [
      "[2017-09-29 20:52:21,472] Making new env: Go9x9-v0\n"
     ]
    }
   ],
   "source": [
    "env = gym.make('Go9x9-v0')"
   ]
  },
  {
   "cell_type": "code",
   "execution_count": 55,
   "metadata": {},
   "outputs": [
    {
     "data": {
      "text/plain": [
       "array([[[0, 0, 0, 0, 0, 0, 0, 0, 0],\n",
       "        [0, 0, 0, 0, 0, 0, 0, 0, 0],\n",
       "        [0, 0, 0, 0, 0, 0, 0, 0, 0],\n",
       "        [0, 0, 0, 0, 0, 0, 0, 0, 0],\n",
       "        [0, 0, 0, 0, 0, 0, 0, 0, 0],\n",
       "        [0, 0, 0, 0, 0, 0, 0, 0, 0],\n",
       "        [0, 0, 0, 0, 0, 0, 0, 0, 0],\n",
       "        [0, 0, 0, 0, 0, 0, 0, 0, 0],\n",
       "        [0, 0, 0, 0, 0, 0, 0, 0, 0]],\n",
       "\n",
       "       [[0, 0, 0, 0, 0, 0, 0, 0, 0],\n",
       "        [0, 0, 0, 0, 0, 0, 0, 0, 0],\n",
       "        [0, 0, 0, 0, 0, 0, 0, 0, 0],\n",
       "        [0, 0, 0, 0, 0, 0, 0, 0, 0],\n",
       "        [0, 0, 0, 0, 0, 0, 0, 0, 0],\n",
       "        [0, 0, 0, 0, 0, 0, 0, 0, 0],\n",
       "        [0, 0, 0, 0, 0, 0, 0, 0, 0],\n",
       "        [0, 0, 0, 0, 0, 0, 0, 0, 0],\n",
       "        [0, 0, 0, 0, 0, 0, 0, 0, 0]],\n",
       "\n",
       "       [[1, 1, 1, 1, 1, 1, 1, 1, 1],\n",
       "        [1, 1, 1, 1, 1, 1, 1, 1, 1],\n",
       "        [1, 1, 1, 1, 1, 1, 1, 1, 1],\n",
       "        [1, 1, 1, 1, 1, 1, 1, 1, 1],\n",
       "        [1, 1, 1, 1, 1, 1, 1, 1, 1],\n",
       "        [1, 1, 1, 1, 1, 1, 1, 1, 1],\n",
       "        [1, 1, 1, 1, 1, 1, 1, 1, 1],\n",
       "        [1, 1, 1, 1, 1, 1, 1, 1, 1],\n",
       "        [1, 1, 1, 1, 1, 1, 1, 1, 1]]])"
      ]
     },
     "execution_count": 55,
     "metadata": {},
     "output_type": "execute_result"
    }
   ],
   "source": [
    "env.reset()"
   ]
  },
  {
   "cell_type": "code",
   "execution_count": null,
   "metadata": {
    "scrolled": false
   },
   "outputs": [
    {
     "name": "stdout",
     "output_type": "stream",
     "text": [
      "{'state': To play: black\n",
      "Move:  10  Komi: 0.0  Handicap: 0  Captures B: 0 W: 0\n",
      "      A B C D E F G H J  \n",
      "    +-------------------+\n",
      "  9 | . . . X . . . . . |\n",
      "  8 | . O . O . X . . . |\n",
      "  7 | . . . . . . . . . |\n",
      "  6 | X . . . . . . O . |\n",
      "  5 | . . . . . . O . . |\n",
      "  4 | . O). . . . . . . |\n",
      "  3 | X X . . . . . . . |\n",
      "  2 | . . . . . . . . . |\n",
      "  1 | . . . . . . . . . |\n",
      "    +-------------------+}\n",
      "{'state': To play: black\n",
      "Move:  12  Komi: 0.0  Handicap: 0  Captures B: 0 W: 0\n",
      "      A B C D E F G H J  \n",
      "    +-------------------+\n",
      "  9 | . . X . . . X . . |\n",
      "  8 | . . . . . O . . . |\n",
      "  7 | . . . . O . . . . |\n",
      "  6 | . . . O . X . X . |\n",
      "  5 | . . . . X . . . X |\n",
      "  4 | . . O . . . . . . |\n",
      "  3 | . . . O . . . . . |\n",
      "  2 | . . O). . . . . . |\n",
      "  1 | . . . . . . . . . |\n",
      "    +-------------------+}\n",
      "{'state': To play: black\n",
      "Move:  16  Komi: 0.0  Handicap: 0  Captures B: 0 W: 0\n",
      "      A B C D E F G H J  \n",
      "    +-------------------+\n",
      "  9 | . . . . . . . . X |\n",
      "  8 | . . . . . . . . . |\n",
      "  7 | . . . . . . . . . |\n",
      "  6 | . . O . . . . . X |\n",
      "  5 | . O X X . O . X . |\n",
      "  4 | . . O . X . O)O . |\n",
      "  3 | X . . . . . . . . |\n",
      "  2 | . O . . . . . O . |\n",
      "  1 | . . X . . . . . . |\n",
      "    +-------------------+}\n",
      "{'state': To play: black\n",
      "Move:  12  Komi: 0.0  Handicap: 0  Captures B: 0 W: 0\n",
      "      A B C D E F G H J  \n",
      "    +-------------------+\n",
      "  9 | . . . . X . . . . |\n",
      "  8 | . O . O). . . . X |\n",
      "  7 | . . . . . O . . X |\n",
      "  6 | . O . . . . . O . |\n",
      "  5 | . . . X . . . . . |\n",
      "  4 | . . . . . . . O X |\n",
      "  3 | . . . . . . . . . |\n",
      "  2 | . . . . . . . . . |\n",
      "  1 | . . . . X . . . . |\n",
      "    +-------------------+}\n"
     ]
    }
   ],
   "source": [
    "bad_moves = []\n",
    "\n",
    "for idx in range(10000):\n",
    "    env.reset()\n",
    "    done = False\n",
    "    while not done:\n",
    "        move = env.action_space.sample()\n",
    "        obser, reward, done, info = env.step(move)\n",
    "    bad_moves.append((obser, move, reward))\n",
    "    if idx % 500 == 499:\n",
    "        print(info)"
   ]
  },
  {
   "cell_type": "code",
   "execution_count": 65,
   "metadata": {},
   "outputs": [
    {
     "data": {
      "text/plain": [
       "430"
      ]
     },
     "execution_count": 65,
     "metadata": {},
     "output_type": "execute_result"
    }
   ],
   "source": [
    "len(bad_moves)"
   ]
  },
  {
   "cell_type": "code",
   "execution_count": 66,
   "metadata": {},
   "outputs": [],
   "source": [
    "import numpy as np"
   ]
  },
  {
   "cell_type": "code",
   "execution_count": 76,
   "metadata": {},
   "outputs": [],
   "source": [
    "positions, moves, rewards = [np.array(l) for l in list(zip(*bad_moves))]"
   ]
  },
  {
   "cell_type": "code",
   "execution_count": 82,
   "metadata": {},
   "outputs": [],
   "source": [
    "np.save('../data/initial_package/moves', moves)\n",
    "np.save('../data/initial_package/rewards', rewards)\n",
    "np.save('../data/initial_package/positions', positions)"
   ]
  },
  {
   "cell_type": "code",
   "execution_count": null,
   "metadata": {},
   "outputs": [],
   "source": []
  }
 ],
 "metadata": {
  "kernelspec": {
   "display_name": "Python [conda env:openai]",
   "language": "python",
   "name": "conda-env-openai-py"
  },
  "language_info": {
   "codemirror_mode": {
    "name": "ipython",
    "version": 3
   },
   "file_extension": ".py",
   "mimetype": "text/x-python",
   "name": "python",
   "nbconvert_exporter": "python",
   "pygments_lexer": "ipython3",
   "version": "3.5.4"
  }
 },
 "nbformat": 4,
 "nbformat_minor": 2
}
