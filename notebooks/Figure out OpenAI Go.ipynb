{
 "cells": [
  {
   "cell_type": "code",
   "execution_count": 89,
   "metadata": {},
   "outputs": [],
   "source": [
    "import gym"
   ]
  },
  {
   "cell_type": "code",
   "execution_count": 90,
   "metadata": {},
   "outputs": [
    {
     "name": "stderr",
     "output_type": "stream",
     "text": [
      "[2017-09-30 14:40:34,260] Making new env: Go9x9-v0\n"
     ]
    }
   ],
   "source": [
    "env = gym.make('Go9x9-v0')"
   ]
  },
  {
   "cell_type": "code",
   "execution_count": 91,
   "metadata": {},
   "outputs": [
    {
     "data": {
      "text/plain": [
       "array([[[0, 0, 0, 0, 0, 0, 0, 0, 0],\n",
       "        [0, 0, 0, 0, 0, 0, 0, 0, 0],\n",
       "        [0, 0, 0, 0, 0, 0, 0, 0, 0],\n",
       "        [0, 0, 0, 0, 0, 0, 0, 0, 0],\n",
       "        [0, 0, 0, 0, 0, 0, 0, 0, 0],\n",
       "        [0, 0, 0, 0, 0, 0, 0, 0, 0],\n",
       "        [0, 0, 0, 0, 0, 0, 0, 0, 0],\n",
       "        [0, 0, 0, 0, 0, 0, 0, 0, 0],\n",
       "        [0, 0, 0, 0, 0, 0, 0, 0, 0]],\n",
       "\n",
       "       [[0, 0, 0, 0, 0, 0, 0, 0, 0],\n",
       "        [0, 0, 0, 0, 0, 0, 0, 0, 0],\n",
       "        [0, 0, 0, 0, 0, 0, 0, 0, 0],\n",
       "        [0, 0, 0, 0, 0, 0, 0, 0, 0],\n",
       "        [0, 0, 0, 0, 0, 0, 0, 0, 0],\n",
       "        [0, 0, 0, 0, 0, 0, 0, 0, 0],\n",
       "        [0, 0, 0, 0, 0, 0, 0, 0, 0],\n",
       "        [0, 0, 0, 0, 0, 0, 0, 0, 0],\n",
       "        [0, 0, 0, 0, 0, 0, 0, 0, 0]],\n",
       "\n",
       "       [[1, 1, 1, 1, 1, 1, 1, 1, 1],\n",
       "        [1, 1, 1, 1, 1, 1, 1, 1, 1],\n",
       "        [1, 1, 1, 1, 1, 1, 1, 1, 1],\n",
       "        [1, 1, 1, 1, 1, 1, 1, 1, 1],\n",
       "        [1, 1, 1, 1, 1, 1, 1, 1, 1],\n",
       "        [1, 1, 1, 1, 1, 1, 1, 1, 1],\n",
       "        [1, 1, 1, 1, 1, 1, 1, 1, 1],\n",
       "        [1, 1, 1, 1, 1, 1, 1, 1, 1],\n",
       "        [1, 1, 1, 1, 1, 1, 1, 1, 1]]])"
      ]
     },
     "execution_count": 91,
     "metadata": {},
     "output_type": "execute_result"
    }
   ],
   "source": [
    "env.reset()"
   ]
  },
  {
   "cell_type": "code",
   "execution_count": 83,
   "metadata": {
    "scrolled": false
   },
   "outputs": [
    {
     "name": "stdout",
     "output_type": "stream",
     "text": [
      "{'state': To play: black\n",
      "Move:  10  Komi: 0.0  Handicap: 0  Captures B: 0 W: 0\n",
      "      A B C D E F G H J  \n",
      "    +-------------------+\n",
      "  9 | . . . X . . . . . |\n",
      "  8 | . O . O . X . . . |\n",
      "  7 | . . . . . . . . . |\n",
      "  6 | X . . . . . . O . |\n",
      "  5 | . . . . . . O . . |\n",
      "  4 | . O). . . . . . . |\n",
      "  3 | X X . . . . . . . |\n",
      "  2 | . . . . . . . . . |\n",
      "  1 | . . . . . . . . . |\n",
      "    +-------------------+}\n",
      "{'state': To play: black\n",
      "Move:  12  Komi: 0.0  Handicap: 0  Captures B: 0 W: 0\n",
      "      A B C D E F G H J  \n",
      "    +-------------------+\n",
      "  9 | . . X . . . X . . |\n",
      "  8 | . . . . . O . . . |\n",
      "  7 | . . . . O . . . . |\n",
      "  6 | . . . O . X . X . |\n",
      "  5 | . . . . X . . . X |\n",
      "  4 | . . O . . . . . . |\n",
      "  3 | . . . O . . . . . |\n",
      "  2 | . . O). . . . . . |\n",
      "  1 | . . . . . . . . . |\n",
      "    +-------------------+}\n",
      "{'state': To play: black\n",
      "Move:  16  Komi: 0.0  Handicap: 0  Captures B: 0 W: 0\n",
      "      A B C D E F G H J  \n",
      "    +-------------------+\n",
      "  9 | . . . . . . . . X |\n",
      "  8 | . . . . . . . . . |\n",
      "  7 | . . . . . . . . . |\n",
      "  6 | . . O . . . . . X |\n",
      "  5 | . O X X . O . X . |\n",
      "  4 | . . O . X . O)O . |\n",
      "  3 | X . . . . . . . . |\n",
      "  2 | . O . . . . . O . |\n",
      "  1 | . . X . . . . . . |\n",
      "    +-------------------+}\n",
      "{'state': To play: black\n",
      "Move:  12  Komi: 0.0  Handicap: 0  Captures B: 0 W: 0\n",
      "      A B C D E F G H J  \n",
      "    +-------------------+\n",
      "  9 | . . . . X . . . . |\n",
      "  8 | . O . O). . . . X |\n",
      "  7 | . . . . . O . . X |\n",
      "  6 | . O . . . . . O . |\n",
      "  5 | . . . X . . . . . |\n",
      "  4 | . . . . . . . O X |\n",
      "  3 | . . . . . . . . . |\n",
      "  2 | . . . . . . . . . |\n",
      "  1 | . . . . X . . . . |\n",
      "    +-------------------+}\n",
      "{'state': To play: black\n",
      "Move:  40  Komi: 0.0  Handicap: 0  Captures B: 0 W: 1\n",
      "      A B C D E F G H J  \n",
      "    +-------------------+\n",
      "  9 | . . O X . . X X . |\n",
      "  8 | . O . O . . . X . |\n",
      "  7 | . . O O . X . . X |\n",
      "  6 | . . . . O O). . . |\n",
      "  5 | . X X O X X X . . |\n",
      "  4 | X O O O . X . . X |\n",
      "  3 | O . . . O . O . X |\n",
      "  2 | . X O O O . X O O |\n",
      "  1 | . . . X O X . . . |\n",
      "    +-------------------+}\n",
      "{'state': To play: black\n",
      "Move:  20  Komi: 0.0  Handicap: 0  Captures B: 0 W: 0\n",
      "      A B C D E F G H J  \n",
      "    +-------------------+\n",
      "  9 | X . . . . X . . . |\n",
      "  8 | . . . . O O X . X |\n",
      "  7 | . . . . . . O O). |\n",
      "  6 | . . . . . O . . . |\n",
      "  5 | . . O . . . . . . |\n",
      "  4 | X X . . . O X . . |\n",
      "  3 | X X . . . . O . . |\n",
      "  2 | . . . . . O . O . |\n",
      "  1 | . . X . . . . . . |\n",
      "    +-------------------+}\n",
      "{'state': To play: black\n",
      "Move:  20  Komi: 0.0  Handicap: 0  Captures B: 0 W: 0\n",
      "      A B C D E F G H J  \n",
      "    +-------------------+\n",
      "  9 | . X . . . . . . . |\n",
      "  8 | . . . . . . . . . |\n",
      "  7 | X . . X . . O . . |\n",
      "  6 | . . X X O . . . . |\n",
      "  5 | . . . X O . O . . |\n",
      "  4 | . X O O . O . . . |\n",
      "  3 | . . . . . . . O). |\n",
      "  2 | . . O O . X . . . |\n",
      "  1 | . . X . . . . . X |\n",
      "    +-------------------+}\n",
      "{'state': To play: black\n",
      "Move:  30  Komi: 0.0  Handicap: 0  Captures B: 0 W: 1\n",
      "      A B C D E F G H J  \n",
      "    +-------------------+\n",
      "  9 | . X . . . . . X . |\n",
      "  8 | . X . X . . . X . |\n",
      "  7 | . . . . O . X . . |\n",
      "  6 | . O . O O O . . . |\n",
      "  5 | X O . . X . . . . |\n",
      "  4 | O . O O O X . . . |\n",
      "  3 | X O . X O O O). . |\n",
      "  2 | . . . X . O . X . |\n",
      "  1 | . . . . . . . . X |\n",
      "    +-------------------+}\n",
      "{'state': To play: black\n",
      "Move:   6  Komi: 0.0  Handicap: 0  Captures B: 0 W: 0\n",
      "      A B C D E F G H J  \n",
      "    +-------------------+\n",
      "  9 | . . . . . . . . X |\n",
      "  8 | . . . . . . . . . |\n",
      "  7 | . . . . . . . . . |\n",
      "  6 | . . . . . . O). . |\n",
      "  5 | . O . . . . . . . |\n",
      "  4 | . . . . . . . . . |\n",
      "  3 | . . O . . . . . . |\n",
      "  2 | . . . . . . . . . |\n",
      "  1 | . X X . . . . . . |\n",
      "    +-------------------+}\n",
      "{'state': To play: black\n",
      "Move:  18  Komi: 0.0  Handicap: 0  Captures B: 0 W: 0\n",
      "      A B C D E F G H J  \n",
      "    +-------------------+\n",
      "  9 | . . . . . . . . . |\n",
      "  8 | . . . . . . . X . |\n",
      "  7 | . X . X . . . . . |\n",
      "  6 | . . . O . O . . . |\n",
      "  5 | X . . . . X O . X |\n",
      "  4 | . O . . . . . O X |\n",
      "  3 | X O . O . . O . . |\n",
      "  2 | . O). . X . . . . |\n",
      "  1 | . . . . . . . . . |\n",
      "    +-------------------+}\n",
      "{'state': To play: black\n",
      "Move:   6  Komi: 0.0  Handicap: 0  Captures B: 0 W: 0\n",
      "      A B C D E F G H J  \n",
      "    +-------------------+\n",
      "  9 | . . . . . . . . . |\n",
      "  8 | . . . . . . . . . |\n",
      "  7 | . . . . . O . . . |\n",
      "  6 | . . . . . . . O). |\n",
      "  5 | . . . . O . . . . |\n",
      "  4 | . . . . . X . X . |\n",
      "  3 | . . . . . . . . . |\n",
      "  2 | . . . . . . . . . |\n",
      "  1 | . . . . . . . X . |\n",
      "    +-------------------+}\n",
      "{'state': To play: black\n",
      "Move:  18  Komi: 0.0  Handicap: 0  Captures B: 0 W: 1\n",
      "      A B C D E F G H J  \n",
      "    +-------------------+\n",
      "  9 | . . . . X . . X . |\n",
      "  8 | X . . . X O . . . |\n",
      "  7 | . . . X . O X . . |\n",
      "  6 | . . . . O . O . . |\n",
      "  5 | . O O . . O . . . |\n",
      "  4 | . X . . O . . . . |\n",
      "  3 | . X . . . . . . . |\n",
      "  2 | . . O . . . . . . |\n",
      "  1 | . . . . . . . . . |\n",
      "    +-------------------+}\n",
      "{'state': To play: black\n",
      "Move:   4  Komi: 0.0  Handicap: 0  Captures B: 0 W: 0\n",
      "      A B C D E F G H J  \n",
      "    +-------------------+\n",
      "  9 | . . . . . . . . . |\n",
      "  8 | . . . . . . . . . |\n",
      "  7 | . . . . . . . . . |\n",
      "  6 | . . . . . X . . . |\n",
      "  5 | . . . . . . . . . |\n",
      "  4 | . . . O . . . O . |\n",
      "  3 | . . . . . . . . . |\n",
      "  2 | . . . . . . . X . |\n",
      "  1 | . . . . . . . . . |\n",
      "    +-------------------+}\n",
      "{'state': To play: black\n",
      "Move:  10  Komi: 0.0  Handicap: 0  Captures B: 0 W: 0\n",
      "      A B C D E F G H J  \n",
      "    +-------------------+\n",
      "  9 | . . . . . . X . . |\n",
      "  8 | . . . X . . . . . |\n",
      "  7 | . . . . . . . . . |\n",
      "  6 | . . . . . . . . X |\n",
      "  5 | . . O). . . . . . |\n",
      "  4 | . . . O . . O . . |\n",
      "  3 | . . . . . . . O . |\n",
      "  2 | . . . . . . O X X |\n",
      "  1 | . . . . . . . . . |\n",
      "    +-------------------+}\n",
      "{'state': To play: black\n",
      "Move:  13  Komi: 0.0  Handicap: 0  Captures B: 0 W: 0\n",
      "      A B C D E F G H J  \n",
      "    +-------------------+\n",
      "  9 | . X . . . . . . X |\n",
      "  8 | . . . . . . . . . |\n",
      "  7 | . . . . . O . . . |\n",
      "  6 | . O . . O . . . . |\n",
      "  5 | . X O O . O . . . |\n",
      "  4 | . O X . . . . . . |\n",
      "  3 | . . . . . . . . . |\n",
      "  2 | . . . . . . X X . |\n",
      "  1 | . . . . . . . . . |\n",
      "    +-------------------+}\n",
      "{'state': To play: black\n",
      "Move:   4  Komi: 0.0  Handicap: 0  Captures B: 0 W: 0\n",
      "      A B C D E F G H J  \n",
      "    +-------------------+\n",
      "  9 | . . . . . . . . . |\n",
      "  8 | . . X . . . . . . |\n",
      "  7 | . . . . . . . . . |\n",
      "  6 | . . . . . . . . . |\n",
      "  5 | . . . . . . . . . |\n",
      "  4 | . . . . . . O . . |\n",
      "  3 | . . . . . O). . . |\n",
      "  2 | . . . . . . X . . |\n",
      "  1 | . . . . . . . . . |\n",
      "    +-------------------+}\n",
      "{'state': To play: black\n",
      "Move:  10  Komi: 0.0  Handicap: 0  Captures B: 0 W: 0\n",
      "      A B C D E F G H J  \n",
      "    +-------------------+\n",
      "  9 | . . . . . . . . . |\n",
      "  8 | . X X . . . . O . |\n",
      "  7 | . . . . . . . . . |\n",
      "  6 | . . . . . . . . . |\n",
      "  5 | . . O . . . . X . |\n",
      "  4 | . . . . . O O)O X |\n",
      "  3 | . . . . . . . . . |\n",
      "  2 | . . . . . . . . X |\n",
      "  1 | . . . . . . . . . |\n",
      "    +-------------------+}\n",
      "{'state': To play: black\n",
      "Move:  18  Komi: 0.0  Handicap: 0  Captures B: 0 W: 0\n",
      "      A B C D E F G H J  \n",
      "    +-------------------+\n",
      "  9 | . . . . . . . . X |\n",
      "  8 | X . . . . . O X . |\n",
      "  7 | . . O X O)X O O . |\n",
      "  6 | . . . O . O X . . |\n",
      "  5 | . . . . . . . . . |\n",
      "  4 | . . O . . . O . . |\n",
      "  3 | . X . . . . X . . |\n",
      "  2 | . . . X . . . . . |\n",
      "  1 | . . . . . . . . . |\n",
      "    +-------------------+}\n",
      "{'state': To play: black\n",
      "Move:  12  Komi: 0.0  Handicap: 0  Captures B: 0 W: 0\n",
      "      A B C D E F G H J  \n",
      "    +-------------------+\n",
      "  9 | . . . . . . . . . |\n",
      "  8 | . X O . . . . . . |\n",
      "  7 | . . . O)X . . . . |\n",
      "  6 | . X O . O . . . . |\n",
      "  5 | . O . . . . . X . |\n",
      "  4 | . . . . . . . . . |\n",
      "  3 | . . X . . . . . . |\n",
      "  2 | . . O . . . . . . |\n",
      "  1 | . X . . . . . . . |\n",
      "    +-------------------+}\n",
      "{'state': To play: black\n",
      "Move:  10  Komi: 0.0  Handicap: 0  Captures B: 0 W: 0\n",
      "      A B C D E F G H J  \n",
      "    +-------------------+\n",
      "  9 | . . . . . . . . . |\n",
      "  8 | . . X . . . . . . |\n",
      "  7 | . . . . . O . . . |\n",
      "  6 | . O). . . . . . . |\n",
      "  5 | . . . . . . . . . |\n",
      "  4 | . . . . . . X . . |\n",
      "  3 | . X O . O O . . . |\n",
      "  2 | . . . . . X . . X |\n",
      "  1 | . . . . . . . . . |\n",
      "    +-------------------+}\n"
     ]
    }
   ],
   "source": [
    "bad_moves = []\n",
    "\n",
    "for idx in range(10000):\n",
    "    env.reset()\n",
    "    done = False\n",
    "    while not done:\n",
    "        move = env.action_space.sample()\n",
    "        obser, reward, done, info = env.step(move)\n",
    "    bad_moves.append((obser, move, reward))\n",
    "    if idx % 500 == 499:\n",
    "        print(info)"
   ]
  },
  {
   "cell_type": "code",
   "execution_count": 101,
   "metadata": {},
   "outputs": [
    {
     "data": {
      "text/plain": [
       "(-1.0, True, {'state': To play: black\n",
       "  Move:   0  Komi: 0.0  Handicap: 0  Captures B: 0 W: 0\n",
       "        A B C D E F G H J  \n",
       "      +-------------------+\n",
       "    9 | . . . . . . . . . |\n",
       "    8 | . . . . . . . . . |\n",
       "    7 | . . . . . . . . . |\n",
       "    6 | . . . . . . . . . |\n",
       "    5 | . . . . . . . . . |\n",
       "    4 | . . . . . . . . . |\n",
       "    3 | . . . . . . . . . |\n",
       "    2 | . . . . . . . . . |\n",
       "    1 | . . . . . . . . . |\n",
       "      +-------------------+})"
      ]
     },
     "execution_count": 101,
     "metadata": {},
     "output_type": "execute_result"
    }
   ],
   "source": [
    "env.reset()\n",
    "obs, reward, done, info = env.step(82)\n",
    "reward, done, info"
   ]
  },
  {
   "cell_type": "code",
   "execution_count": 102,
   "metadata": {},
   "outputs": [
    {
     "data": {
      "text/plain": [
       "10000"
      ]
     },
     "execution_count": 102,
     "metadata": {},
     "output_type": "execute_result"
    }
   ],
   "source": [
    "len(bad_moves)"
   ]
  },
  {
   "cell_type": "code",
   "execution_count": 85,
   "metadata": {},
   "outputs": [],
   "source": [
    "import numpy as np"
   ]
  },
  {
   "cell_type": "code",
   "execution_count": 107,
   "metadata": {
    "scrolled": false
   },
   "outputs": [],
   "source": [
    "from quilt.data.andrewbrown import gofamiliar"
   ]
  },
  {
   "cell_type": "code",
   "execution_count": 86,
   "metadata": {},
   "outputs": [],
   "source": [
    "positions, moves, rewards = [np.array(l) for l in list(zip(*bad_moves))]"
   ]
  },
  {
   "cell_type": "code",
   "execution_count": null,
   "metadata": {},
   "outputs": [],
   "source": [
    "positions = np.concatenate([np.load(gofamiliar.positions()), positions,])"
   ]
  },
  {
   "cell_type": "code",
   "execution_count": 122,
   "metadata": {},
   "outputs": [],
   "source": [
    "moves = np.concatenate([np.load(gofamiliar.moves()), moves,])"
   ]
  },
  {
   "cell_type": "code",
   "execution_count": 123,
   "metadata": {},
   "outputs": [],
   "source": [
    "rewards = np.concatenate([np.load(gofamiliar.rewards()), rewards])"
   ]
  },
  {
   "cell_type": "code",
   "execution_count": 124,
   "metadata": {},
   "outputs": [],
   "source": [
    "np.save('../data/moves', moves)\n",
    "np.save('../data/rewards', rewards)\n",
    "np.save('../data/positions', positions)"
   ]
  }
 ],
 "metadata": {
  "kernelspec": {
   "display_name": "Python [conda env:openai]",
   "language": "python",
   "name": "conda-env-openai-py"
  },
  "language_info": {
   "codemirror_mode": {
    "name": "ipython",
    "version": 3
   },
   "file_extension": ".py",
   "mimetype": "text/x-python",
   "name": "python",
   "nbconvert_exporter": "python",
   "pygments_lexer": "ipython3",
   "version": "3.5.4"
  }
 },
 "nbformat": 4,
 "nbformat_minor": 2
}
