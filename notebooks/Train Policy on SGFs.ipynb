{
 "cells": [
  {
   "cell_type": "code",
   "execution_count": 1,
   "metadata": {},
   "outputs": [],
   "source": [
    "import paths\n",
    "import sgf"
   ]
  },
  {
   "cell_type": "code",
   "execution_count": 2,
   "metadata": {},
   "outputs": [],
   "source": [
    "import numpy as np"
   ]
  },
  {
   "cell_type": "code",
   "execution_count": 3,
   "metadata": {},
   "outputs": [
    {
     "name": "stderr",
     "output_type": "stream",
     "text": [
      "Using TensorFlow backend.\n"
     ]
    }
   ],
   "source": [
    "import keras\n",
    "import tensorflow as tf\n",
    "from keras import backend as K\n",
    "from keras.layers import Convolution2D, ZeroPadding2D, BatchNormalization, Dense"
   ]
  },
  {
   "cell_type": "code",
   "execution_count": 4,
   "metadata": {},
   "outputs": [],
   "source": [
    "def limit_mem():\n",
    "    cfg = K.tf.ConfigProto()\n",
    "    cfg.gpu_options.allow_growth = True\n",
    "    K.set_session(K.tf.InteractiveSession(config=cfg))\n",
    "limit_mem()"
   ]
  },
  {
   "cell_type": "code",
   "execution_count": 5,
   "metadata": {},
   "outputs": [],
   "source": [
    "library = sgf.Library()"
   ]
  },
  {
   "cell_type": "code",
   "execution_count": 6,
   "metadata": {},
   "outputs": [],
   "source": [
    "names = list(library)"
   ]
  },
  {
   "cell_type": "markdown",
   "metadata": {},
   "source": [
    "n = 100\n",
    "tr, val, te = int(n*0.7), int(n*0.2), int(n*0.1)\n",
    "\n",
    "random_boards = np.random.choice(names, size=tr+val+te, )\n",
    "\n",
    "train, valid, test = random_boards[:tr], random_boards[tr:tr+val], random_boards[tr+val:tr+val+te]"
   ]
  },
  {
   "cell_type": "code",
   "execution_count": 7,
   "metadata": {},
   "outputs": [],
   "source": [
    "def game_generator(game_names, batch_size):\n",
    "    Xgames = []\n",
    "    Ygames = []\n",
    "    while True:\n",
    "\n",
    "        name = np.random.choice(game_names)\n",
    "        move_idx = np.random.choice(len(library[name]['graymoves']))\n",
    "        \n",
    "        Xgames.append(library[name]['gray'][move_idx,:,:])\n",
    "        Ygames.append(library[name]['graymoves'][move_idx,:,:])\n",
    "                     \n",
    "        if len(Xgames) >= batch_size:\n",
    "            Xgames = np.array(Xgames).reshape(-1,19,19,1)\n",
    "            Ygames = np.array(Ygames).reshape(-1,19*19)\n",
    "            \n",
    "            yield Xgames, Ygames\n",
    "            \n",
    "            Xgames = []\n",
    "            Ygames = []"
   ]
  },
  {
   "cell_type": "code",
   "execution_count": 8,
   "metadata": {},
   "outputs": [],
   "source": [
    "n = len(library)\n",
    "tr, val = int(n*0.7), int(n*0.2)\n",
    "te = n - tr - val\n",
    "\n",
    "random_boards = np.random.choice(names, size=n,)\n",
    "\n",
    "train, valid, test = random_boards[:tr], random_boards[tr:tr+val], random_boards[tr+val:tr+val+te]"
   ]
  },
  {
   "cell_type": "code",
   "execution_count": 9,
   "metadata": {},
   "outputs": [],
   "source": [
    "with open('trainvalidtest.csv', 'w') as datasetup:\n",
    "    for number in (tr,val,te):\n",
    "        datasetup.write(str(number)+'\\n')\n",
    "    for game in random_boards:\n",
    "        datasetup.write(game+'\\n')"
   ]
  },
  {
   "cell_type": "code",
   "execution_count": 10,
   "metadata": {},
   "outputs": [
    {
     "name": "stdout",
     "output_type": "stream",
     "text": [
      "(10, 19, 19, 1) (10, 361)\n"
     ]
    }
   ],
   "source": [
    "for X,Y in game_generator(test, 10):\n",
    "    print(X.shape, Y.shape)\n",
    "    break"
   ]
  },
  {
   "cell_type": "code",
   "execution_count": 11,
   "metadata": {},
   "outputs": [],
   "source": [
    "def convblock(connectinglayer, conv_filters = 32, act_function='selu', batchnormalize=True):\n",
    "    edge_padding = (1,1)\n",
    "    \n",
    "    zero = ZeroPadding2D(edge_padding)(connectinglayer)\n",
    "    conv = Convolution2D(filters=conv_filters, \n",
    "                         kernel_size=(3,3),\n",
    "                         activation=act_function,\n",
    "                        )(zero)\n",
    "    if batchnormalize:\n",
    "        lastlayer = BatchNormalization()(conv)\n",
    "    else:\n",
    "        lastlayer = conv\n",
    "    \n",
    "    return lastlayer"
   ]
  },
  {
   "cell_type": "code",
   "execution_count": 12,
   "metadata": {},
   "outputs": [],
   "source": [
    "def denseblock(connectinglayer, output_size = 4096, act_function='selu', batchnormalize=True):\n",
    "    dense = Dense(output_size, activation=act_function)(connectinglayer)\n",
    "    if batchnormalize:\n",
    "        lastlayer = BatchNormalization()(dense)\n",
    "    else:\n",
    "        lastlayer = dense\n",
    "    \n",
    "    return lastlayer"
   ]
  },
  {
   "cell_type": "code",
   "execution_count": 13,
   "metadata": {},
   "outputs": [],
   "source": [
    "def make_model():\n",
    "    gray_board = keras.layers.Input(shape=(19,19,1))\n",
    "\n",
    "    current_layer = gray_board\n",
    "\n",
    "    for _ in range(5):\n",
    "        current_layer = convblock(current_layer)\n",
    "\n",
    "    current_layer = keras.layers.Flatten()(current_layer)\n",
    "\n",
    "    for _ in range(2):\n",
    "        current_layer = denseblock(current_layer)\n",
    "\n",
    "    move_pred = Dense(19*19, activation='sigmoid')(current_layer)\n",
    "\n",
    "\n",
    "    model = keras.models.Model(gray_board, move_pred)\n",
    "\n",
    "    model.compile(optimizer=keras.optimizers.SGD(lr=0.01), loss='categorical_crossentropy', metrics=['categorical_accuracy'])\n",
    "    \n",
    "    return model\n"
   ]
  },
  {
   "cell_type": "markdown",
   "metadata": {},
   "source": [
    "X1 = library[train[0]]['gray'][()][:-1,:,:].reshape(-1,19,19,1)\n",
    "y1 = library[train[0]]['graymoves'][()].reshape(-1,19*19)"
   ]
  },
  {
   "cell_type": "markdown",
   "metadata": {},
   "source": [
    "X1.shape, y1.shape"
   ]
  },
  {
   "cell_type": "markdown",
   "metadata": {},
   "source": [
    "model.fit(X1, y1);"
   ]
  },
  {
   "cell_type": "markdown",
   "metadata": {},
   "source": [
    "model.predict(library[valid[0]]['gray'][()][100,:,:].reshape(1,19,19,1))"
   ]
  },
  {
   "cell_type": "markdown",
   "metadata": {},
   "source": [
    "for game in train:\n",
    "    X1 = library[game]['gray'][()][:-1,:,:].reshape(-1,19,19,1)\n",
    "    y1 = library[game]['graymoves'][()].reshape(-1,19*19)\n",
    "    model.fit(X1, y1, epochs=10)"
   ]
  },
  {
   "cell_type": "code",
   "execution_count": null,
   "metadata": {},
   "outputs": [],
   "source": [
    "model = make_model()"
   ]
  },
  {
   "cell_type": "code",
   "execution_count": null,
   "metadata": {},
   "outputs": [],
   "source": [
    "epochs = 10\n",
    "batch_size = 64\n",
    "training_steps = 128 * (tr // batch_size)\n",
    "valid_size = min(batch_size, val)\n",
    "valid_steps = 128 * (val // valid_size)"
   ]
  },
  {
   "cell_type": "code",
   "execution_count": 15,
   "metadata": {},
   "outputs": [
    {
     "name": "stdout",
     "output_type": "stream",
     "text": [
      "Epoch 1/10\n",
      "    3/71936 [..............................] - ETA: 26532s - loss: 1.5692 - categorical_accuracy: 0.5990"
     ]
    },
    {
     "name": "stderr",
     "output_type": "stream",
     "text": [
      "C:\\Anaconda3\\envs\\gofamiliar\\lib\\site-packages\\keras\\callbacks.py:120: UserWarning: Method on_batch_end() is slow compared to the batch update (0.164075). Check your callbacks.\n",
      "  % delta_t_median)\n"
     ]
    },
    {
     "name": "stdout",
     "output_type": "stream",
     "text": [
      "\b\b\b\b\b\b\b\b\b\b\b\b\b\b\b\b\b\b\b\b\b\b\b\b\b\b\b\b\b\b\b\b\b\b\b\b\b\b\b\b\b\b\b\b\b\b\b\b\b\b\b\b\b\b\b\b\b\b\b\b\b\b\b\b\b\b\b\b\b\b\b\b\b\b\b\b\b\b\b\b\b\b\b\b\b\b\b\b\b\b\b\b\b\b\b\b\b\b\b\b\b\b\b\b\r",
      "    4/71936 [..............................] - ETA: 24985s - loss: 1.4197 - categorical_accuracy: 0.6250"
     ]
    },
    {
     "name": "stderr",
     "output_type": "stream",
     "text": [
      "C:\\Anaconda3\\envs\\gofamiliar\\lib\\site-packages\\keras\\callbacks.py:120: UserWarning: Method on_batch_end() is slow compared to the batch update (0.125001). Check your callbacks.\n",
      "  % delta_t_median)\n"
     ]
    },
    {
     "name": "stdout",
     "output_type": "stream",
     "text": [
      "71936/71936 [==============================] - 11583s - loss: 1.4133 - categorical_accuracy: 0.6121 - val_loss: 3.1760 - val_categorical_accuracy: 0.4062\n",
      "Epoch 2/10\n",
      "71936/71936 [==============================] - 11733s - loss: 1.3115 - categorical_accuracy: 0.6351 - val_loss: 3.2230 - val_categorical_accuracy: 0.4169\n",
      "Epoch 3/10\n",
      "71936/71936 [==============================] - 11783s - loss: 1.2249 - categorical_accuracy: 0.6551 - val_loss: 3.2387 - val_categorical_accuracy: 0.4269\n",
      "Epoch 4/10\n",
      "71936/71936 [==============================] - 12400s - loss: 1.1467 - categorical_accuracy: 0.6734 - val_loss: 3.2578 - val_categorical_accuracy: 0.4362\n",
      "Epoch 5/10\n",
      "71936/71936 [==============================] - 12593s - loss: 1.0738 - categorical_accuracy: 0.6907 - val_loss: 3.3108 - val_categorical_accuracy: 0.4400\n",
      "Epoch 6/10\n",
      "71936/71936 [==============================] - 12259s - loss: 1.0101 - categorical_accuracy: 0.7059 - val_loss: 3.3267 - val_categorical_accuracy: 0.4509\n",
      "Epoch 7/10\n",
      "71936/71936 [==============================] - 12006s - loss: 0.9520 - categorical_accuracy: 0.7202 - val_loss: 3.3476 - val_categorical_accuracy: 0.4587\n",
      "Epoch 8/10\n",
      "71936/71936 [==============================] - 12330s - loss: 0.9004 - categorical_accuracy: 0.7327 - val_loss: 3.3838 - val_categorical_accuracy: 0.4650\n",
      "Epoch 9/10\n",
      "71936/71936 [==============================] - 12367s - loss: 0.8517 - categorical_accuracy: 0.7448 - val_loss: 3.4289 - val_categorical_accuracy: 0.4700\n",
      "Epoch 10/10\n",
      "71936/71936 [==============================] - 12320s - loss: 0.8083 - categorical_accuracy: 0.7562 - val_loss: 3.4539 - val_categorical_accuracy: 0.4749\n"
     ]
    }
   ],
   "source": [
    "model.fit_generator(generator=game_generator(train, batch_size=batch_size), \n",
    "                    epochs=epochs, \n",
    "                    steps_per_epoch=training_steps, \n",
    "                    validation_data=game_generator(valid, batch_size=valid_size), \n",
    "                    validation_steps=valid_steps,\n",
    "                    callbacks=[keras.callbacks.ModelCheckpoint(filepath='model_{epoch:02d}_{val_loss:.2f}.hdf5')]\n",
    "                   );"
   ]
  },
  {
   "cell_type": "code",
   "execution_count": null,
   "metadata": {},
   "outputs": [],
   "source": []
  }
 ],
 "metadata": {
  "kernelspec": {
   "display_name": "Python [conda env:gofamiliar]",
   "language": "python",
   "name": "conda-env-gofamiliar-py"
  },
  "language_info": {
   "codemirror_mode": {
    "name": "ipython",
    "version": 3
   },
   "file_extension": ".py",
   "mimetype": "text/x-python",
   "name": "python",
   "nbconvert_exporter": "python",
   "pygments_lexer": "ipython3",
   "version": "3.6.2"
  }
 },
 "nbformat": 4,
 "nbformat_minor": 2
}
