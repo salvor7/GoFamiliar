{
 "cells": [
  {
   "cell_type": "code",
   "execution_count": 1,
   "metadata": {},
   "outputs": [
    {
     "name": "stderr",
     "output_type": "stream",
     "text": [
      "Using TensorFlow backend.\n"
     ]
    }
   ],
   "source": [
    "import numpy as np\n",
    "import keras"
   ]
  },
  {
   "cell_type": "code",
   "execution_count": 2,
   "metadata": {},
   "outputs": [
    {
     "name": "stderr",
     "output_type": "stream",
     "text": [
      "[2017-10-03 13:57:50,834] Making new env: Go9x9-v0\n"
     ]
    }
   ],
   "source": [
    "import gym\n",
    "env = gym.make('Go9x9-v0')"
   ]
  },
  {
   "cell_type": "code",
   "execution_count": 3,
   "metadata": {},
   "outputs": [],
   "source": [
    "import paths\n",
    "from nn import policy9x9"
   ]
  },
  {
   "cell_type": "code",
   "execution_count": 4,
   "metadata": {},
   "outputs": [],
   "source": [
    "def opponent(position1st, position2nd):\n",
    "    \"\"\"Return the opponent move with the position they saw\n",
    "    \n",
    "    Go9x9 gym environment makes whites moves automatically, so \n",
    "    it is not as easy to capture their state and move for training\n",
    "    as it is for the black moves.\n",
    "    This method calculates the position the white player saw and the \n",
    "    move they took in that position.\n",
    "    \n",
    "    :param positions___: np.array    3x9x9 arrays\n",
    "    :return: (np.array, int)         (3x9x9 observation array, move integer)\n",
    "    \"\"\"\n",
    "    mask = (position1st - position2nd)[1,:,:]\n",
    "    if np.all(mask == 0):\n",
    "        opp_move = 81\n",
    "    else:\n",
    "        opp_move = np.argmin(mask.reshape(81))\n",
    "    \n",
    "    mask = np.concatenate([np.zeros((1,9,9)), mask.reshape(1,9,9), -mask.reshape(1,9,9)],)\n",
    "    opp_position = position2nd + mask\n",
    "\n",
    "    return opp_position, opp_move"
   ]
  },
  {
   "cell_type": "code",
   "execution_count": 5,
   "metadata": {},
   "outputs": [
    {
     "ename": "NameError",
     "evalue": "name 'observations' is not defined",
     "output_type": "error",
     "traceback": [
      "\u001b[0;31m---------------------------------------------------------------------------\u001b[0m",
      "\u001b[0;31mNameError\u001b[0m                                 Traceback (most recent call last)",
      "\u001b[0;32m<ipython-input-5-1e4b4b198e9a>\u001b[0m in \u001b[0;36m<module>\u001b[0;34m()\u001b[0m\n\u001b[0;32m----> 1\u001b[0;31m \u001b[0mopponent\u001b[0m\u001b[0;34m(\u001b[0m\u001b[0;34m*\u001b[0m\u001b[0mobservations\u001b[0m\u001b[0;34m[\u001b[0m\u001b[0;34m-\u001b[0m\u001b[0;36m2\u001b[0m\u001b[0;34m:\u001b[0m\u001b[0;34m]\u001b[0m\u001b[0;34m)\u001b[0m\u001b[0;34m\u001b[0m\u001b[0m\n\u001b[0m",
      "\u001b[0;31mNameError\u001b[0m: name 'observations' is not defined"
     ]
    }
   ],
   "source": [
    "opponent(*observations[-2:])"
   ]
  },
  {
   "cell_type": "code",
   "execution_count": null,
   "metadata": {},
   "outputs": [],
   "source": [
    "observations[-1]"
   ]
  },
  {
   "cell_type": "code",
   "execution_count": 6,
   "metadata": {},
   "outputs": [
    {
     "name": "stdout",
     "output_type": "stream",
     "text": [
      "_________________________________________________________________\n",
      "Layer (type)                 Output Shape              Param #   \n",
      "=================================================================\n",
      "input_1 (InputLayer)         (None, 3, 9, 9)           0         \n",
      "_________________________________________________________________\n",
      "zero_padding2d_1 (ZeroPaddin (None, 5, 11, 9)          0         \n",
      "_________________________________________________________________\n",
      "conv2d_1 (Conv2D)            (None, 3, 9, 32)          2624      \n",
      "_________________________________________________________________\n",
      "zero_padding2d_2 (ZeroPaddin (None, 5, 11, 32)         0         \n",
      "_________________________________________________________________\n",
      "conv2d_2 (Conv2D)            (None, 3, 9, 32)          9248      \n",
      "_________________________________________________________________\n",
      "flatten_1 (Flatten)          (None, 864)               0         \n",
      "_________________________________________________________________\n",
      "dense_1 (Dense)              (None, 1024)              885760    \n",
      "_________________________________________________________________\n",
      "batch_normalization_1 (Batch (None, 1024)              4096      \n",
      "_________________________________________________________________\n",
      "dropout_1 (Dropout)          (None, 1024)              0         \n",
      "_________________________________________________________________\n",
      "dense_2 (Dense)              (None, 1024)              1049600   \n",
      "_________________________________________________________________\n",
      "batch_normalization_2 (Batch (None, 1024)              4096      \n",
      "_________________________________________________________________\n",
      "dropout_2 (Dropout)          (None, 1024)              0         \n",
      "_________________________________________________________________\n",
      "dense_3 (Dense)              (None, 83)                85075     \n",
      "=================================================================\n",
      "Total params: 2,040,499\n",
      "Trainable params: 2,036,403\n",
      "Non-trainable params: 4,096\n",
      "_________________________________________________________________\n",
      "None\n"
     ]
    }
   ],
   "source": [
    "net = policy9x9.PolicyNet()"
   ]
  },
  {
   "cell_type": "code",
   "execution_count": 13,
   "metadata": {},
   "outputs": [
    {
     "data": {
      "text/plain": [
       "(4.0, -93.0)"
      ]
     },
     "execution_count": 13,
     "metadata": {},
     "output_type": "execute_result"
    }
   ],
   "source": [
    "moves_made_per_game = []\n",
    "total_reward = 0\n",
    "\n",
    "for _ in range(100):\n",
    "    observations = []\n",
    "    moves = []\n",
    "    \n",
    "    opp_observations = []\n",
    "    opp_moves = []\n",
    "    \n",
    "    obser = env.reset()    \n",
    "    done = False\n",
    "    \n",
    "    while not done:\n",
    "        observations.append(obser)\n",
    "        move = net.move(position=obser)\n",
    "        obser, reward, done, info = env.step(move)\n",
    "        \n",
    "        moves.append(move)\n",
    "        \n",
    "        opp_obser, opp_move = opponent(observations[-1], obser)\n",
    "        opp_observations.append(opp_obser)\n",
    "        opp_moves.append(opp_move)\n",
    "    moves_made_per_game.append(len(moves))\n",
    "    total_reward += reward\n",
    "    \n",
    "    moves = keras.utils.to_categorical(np.array(moves), num_classes=83)\n",
    "    actionrewards = moves * reward    # uses the final reward as the reward for all moves\n",
    "    observations = np.array(observations)\n",
    "    \n",
    "    net.train(observations=observations, actionrewards=actionrewards, verbose=0)\n",
    "    \n",
    "    opp_moves = keras.utils.to_categorical(np.array(opp_moves), num_classes=83)\n",
    "    opp_actionrewards = opp_moves * (-reward)\n",
    "    opp_observations = np.array(opp_observations)\n",
    "    \n",
    "    net.train(observations=opp_observations, actionrewards=opp_actionrewards, verbose=0)\n",
    "\n",
    "np.median(moves_made_per_game), total_reward"
   ]
  },
  {
   "cell_type": "code",
   "execution_count": 10,
   "metadata": {},
   "outputs": [
    {
     "data": {
      "text/plain": [
       "(4.0, -89.0)"
      ]
     },
     "execution_count": 10,
     "metadata": {},
     "output_type": "execute_result"
    }
   ],
   "source": [
    "np.median(moves_made_per_game), total_reward"
   ]
  },
  {
   "cell_type": "code",
   "execution_count": 12,
   "metadata": {},
   "outputs": [
    {
     "data": {
      "text/plain": [
       "(4.0, -91.0)"
      ]
     },
     "execution_count": 12,
     "metadata": {},
     "output_type": "execute_result"
    }
   ],
   "source": [
    "np.median(moves_made_per_game), total_reward"
   ]
  },
  {
   "cell_type": "code",
   "execution_count": null,
   "metadata": {},
   "outputs": [],
   "source": []
  }
 ],
 "metadata": {
  "kernelspec": {
   "display_name": "Python [conda env:openai]",
   "language": "python",
   "name": "conda-env-openai-py"
  },
  "language_info": {
   "codemirror_mode": {
    "name": "ipython",
    "version": 3
   },
   "file_extension": ".py",
   "mimetype": "text/x-python",
   "name": "python",
   "nbconvert_exporter": "python",
   "pygments_lexer": "ipython3",
   "version": "3.5.4"
  }
 },
 "nbformat": 4,
 "nbformat_minor": 2
}
