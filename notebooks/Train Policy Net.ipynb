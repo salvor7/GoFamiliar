{
 "cells": [
  {
   "cell_type": "code",
   "execution_count": 1,
   "metadata": {},
   "outputs": [
    {
     "name": "stderr",
     "output_type": "stream",
     "text": [
      "Using TensorFlow backend.\n"
     ]
    }
   ],
   "source": [
    "import numpy as np\n",
    "import keras"
   ]
  },
  {
   "cell_type": "code",
   "execution_count": 2,
   "metadata": {},
   "outputs": [
    {
     "name": "stderr",
     "output_type": "stream",
     "text": [
      "[2017-10-04 22:16:11,409] Making new env: Go9x9-v0\n"
     ]
    }
   ],
   "source": [
    "import gym\n",
    "env = gym.make('Go9x9-v0')"
   ]
  },
  {
   "cell_type": "code",
   "execution_count": 3,
   "metadata": {},
   "outputs": [],
   "source": [
    "import importlib"
   ]
  },
  {
   "cell_type": "code",
   "execution_count": 4,
   "metadata": {},
   "outputs": [],
   "source": [
    "def opponent(position1st, position2nd):\n",
    "    \"\"\"Return the opponent move with the position they saw\n",
    "    \n",
    "    Go9x9 gym environment makes whites moves automatically, so \n",
    "    it is not as easy to capture their state and move for training\n",
    "    as it is for the black moves.\n",
    "    This method calculates the position the white player saw and the \n",
    "    move they took in that position.\n",
    "    \n",
    "    :param positions___: np.array    3x9x9 arrays\n",
    "    :return: (np.array, int)         (3x9x9 observation array, move integer)\n",
    "    \"\"\"\n",
    "    mask = (position1st - position2nd)[1,:,:]\n",
    "    if np.all(mask == 0):\n",
    "        opp_move = 81\n",
    "    else:\n",
    "        opp_move = np.argmin(mask.reshape(81))\n",
    "    \n",
    "    mask = np.concatenate([np.zeros((1,9,9)), mask.reshape(1,9,9), -mask.reshape(1,9,9)],)\n",
    "    opp_position = position2nd + mask\n",
    "\n",
    "    return opp_position, opp_move"
   ]
  },
  {
   "cell_type": "code",
   "execution_count": 5,
   "metadata": {},
   "outputs": [
    {
     "ename": "NameError",
     "evalue": "name 'observations' is not defined",
     "output_type": "error",
     "traceback": [
      "\u001b[0;31m---------------------------------------------------------------------------\u001b[0m",
      "\u001b[0;31mNameError\u001b[0m                                 Traceback (most recent call last)",
      "\u001b[0;32m<ipython-input-5-1e4b4b198e9a>\u001b[0m in \u001b[0;36m<module>\u001b[0;34m()\u001b[0m\n\u001b[0;32m----> 1\u001b[0;31m \u001b[0mopponent\u001b[0m\u001b[0;34m(\u001b[0m\u001b[0;34m*\u001b[0m\u001b[0mobservations\u001b[0m\u001b[0;34m[\u001b[0m\u001b[0;34m-\u001b[0m\u001b[0;36m2\u001b[0m\u001b[0;34m:\u001b[0m\u001b[0;34m]\u001b[0m\u001b[0;34m)\u001b[0m\u001b[0;34m\u001b[0m\u001b[0m\n\u001b[0m",
      "\u001b[0;31mNameError\u001b[0m: name 'observations' is not defined"
     ]
    }
   ],
   "source": [
    "opponent(*observations[-2:])"
   ]
  },
  {
   "cell_type": "code",
   "execution_count": 29,
   "metadata": {},
   "outputs": [
    {
     "data": {
      "text/plain": [
       "<module 'nn.policy9x9' from '/Users/andrew.brown/projects/GoFamiliar/src/nn/policy9x9.py'>"
      ]
     },
     "execution_count": 29,
     "metadata": {},
     "output_type": "execute_result"
    }
   ],
   "source": [
    "import paths\n",
    "from nn import policy9x9\n",
    "importlib.reload(policy9x9)"
   ]
  },
  {
   "cell_type": "code",
   "execution_count": 30,
   "metadata": {
    "scrolled": false
   },
   "outputs": [
    {
     "name": "stdout",
     "output_type": "stream",
     "text": [
      "____________________________________________________________________________________________________\n",
      "Layer (type)                     Output Shape          Param #     Connected to                     \n",
      "====================================================================================================\n",
      "input_17 (InputLayer)            (None, 2, 9, 9)       0                                            \n",
      "____________________________________________________________________________________________________\n",
      "zero_padding2d_17 (ZeroPadding2D (None, 4, 11, 9)      0           input_17[0][0]                   \n",
      "____________________________________________________________________________________________________\n",
      "conv2d_17 (Conv2D)               (None, 2, 9, 32)      2624        zero_padding2d_17[0][0]          \n",
      "____________________________________________________________________________________________________\n",
      "zero_padding2d_18 (ZeroPadding2D (None, 4, 11, 32)     0           conv2d_17[0][0]                  \n",
      "____________________________________________________________________________________________________\n",
      "conv2d_18 (Conv2D)               (None, 2, 9, 32)      9248        zero_padding2d_18[0][0]          \n",
      "____________________________________________________________________________________________________\n",
      "flatten_18 (Flatten)             (None, 576)           0           conv2d_18[0][0]                  \n",
      "____________________________________________________________________________________________________\n",
      "dense_25 (Dense)                 (None, 1024)          590848      flatten_18[0][0]                 \n",
      "____________________________________________________________________________________________________\n",
      "batch_normalization_17 (BatchNor (None, 1024)          4096        dense_25[0][0]                   \n",
      "____________________________________________________________________________________________________\n",
      "dense_26 (Dense)                 (None, 1024)          1049600     batch_normalization_17[0][0]     \n",
      "____________________________________________________________________________________________________\n",
      "batch_normalization_18 (BatchNor (None, 1024)          4096        dense_26[0][0]                   \n",
      "____________________________________________________________________________________________________\n",
      "input_18 (InputLayer)            (None, 9, 9)          0                                            \n",
      "____________________________________________________________________________________________________\n",
      "dense_27 (Dense)                 (None, 81)            83025       batch_normalization_18[0][0]     \n",
      "____________________________________________________________________________________________________\n",
      "flatten_17 (Flatten)             (None, 81)            0           input_18[0][0]                   \n",
      "____________________________________________________________________________________________________\n",
      "multiply_9 (Multiply)            (None, 81)            0           dense_27[0][0]                   \n",
      "                                                                   flatten_17[0][0]                 \n",
      "====================================================================================================\n",
      "Total params: 1,743,537\n",
      "Trainable params: 1,739,441\n",
      "Non-trainable params: 4,096\n",
      "____________________________________________________________________________________________________\n",
      "None\n"
     ]
    }
   ],
   "source": [
    "net = policy9x9.PolicyNet()"
   ]
  },
  {
   "cell_type": "code",
   "execution_count": null,
   "metadata": {},
   "outputs": [
    {
     "name": "stderr",
     "output_type": "stream",
     "text": [
      "/Users/andrew.brown/projects/GoFamiliar/src/nn/policy9x9.py:120: RuntimeWarning: invalid value encountered in true_divide\n",
      "  return np.random.choice(ACTION_SPACE, p=probs)\n",
      "/Users/andrew.brown/projects/GoFamiliar/src/nn/policy9x9.py:121: RuntimeWarning: invalid value encountered in less\n",
      "  \n"
     ]
    }
   ],
   "source": [
    "moves_made_per_game = []\n",
    "total_reward = 0\n",
    "\n",
    "for _ in range(100):\n",
    "    observations = []\n",
    "    moves = []\n",
    "    \n",
    "    opp_observations = []\n",
    "    opp_moves = []\n",
    "    \n",
    "    obser = env.reset()    \n",
    "    done = False\n",
    "    \n",
    "    while not done:\n",
    "        observations.append(obser)\n",
    "        move = net.move(position=obser)\n",
    "        obser, reward, done, info = env.step(move)\n",
    "        \n",
    "        moves.append(move)\n",
    "        \n",
    "        opp_obser, opp_move = opponent(observations[-1], obser)\n",
    "        if opp_move < 81:\n",
    "            opp_observations.append(opp_obser)\n",
    "            opp_moves.append(opp_move)\n",
    "    moves_made_per_game.append(len(moves))\n",
    "    total_reward += reward\n",
    "    \n",
    "    played_on_stone = np.any(observations[-1][2,:,:].reshape((81,)) == 0)\n",
    "    if played_on_stone:\n",
    "        obs_before_playing_on_stone = np.array(observations[-1]).reshape(policy9x9.BOARD_SHAPE_1)\n",
    "        illegal_move = keras.utils.to_categorical(moves[-1], num_classes=len(policy9x9.ACTION_SPACE))\n",
    "        illegal_playreward = illegal_move * reward\n",
    "        \n",
    "        net.train(observations=obs_before_playing_on_stone, \n",
    "                  actionrewards=illegal_playreward, \n",
    "                  verbose=0)\n",
    "        reward = -reward\n",
    "        \n",
    "    moves = keras.utils.to_categorical(np.array(moves), num_classes=len(policy9x9.ACTION_SPACE))\n",
    "    actionrewards = moves * reward    # uses the final reward as the reward for all moves\n",
    "    observations = np.array(observations)\n",
    "    \n",
    "    net.train(observations=observations, \n",
    "              actionrewards=actionrewards, \n",
    "              verbose=0)\n",
    "    \n",
    "    opp_moves = keras.utils.to_categorical(np.array(opp_moves), num_classes=len(policy9x9.ACTION_SPACE))\n",
    "    opp_actionrewards = opp_moves * (-reward)\n",
    "    opp_observations = np.array(opp_observations)\n",
    "    \n",
    "    net.train(observations=opp_observations, \n",
    "              actionrewards=opp_actionrewards, \n",
    "              verbose=0)\n",
    "\n",
    "np.median(moves_made_per_game), total_reward"
   ]
  },
  {
   "cell_type": "markdown",
   "metadata": {},
   "source": [
    "## Original"
   ]
  },
  {
   "cell_type": "code",
   "execution_count": 10,
   "metadata": {},
   "outputs": [
    {
     "data": {
      "text/plain": [
       "(4.0, -89.0)"
      ]
     },
     "execution_count": 10,
     "metadata": {},
     "output_type": "execute_result"
    }
   ],
   "source": [
    "np.median(moves_made_per_game), total_reward"
   ]
  },
  {
   "cell_type": "code",
   "execution_count": 12,
   "metadata": {},
   "outputs": [
    {
     "data": {
      "text/plain": [
       "(4.0, -91.0)"
      ]
     },
     "execution_count": 12,
     "metadata": {},
     "output_type": "execute_result"
    }
   ],
   "source": [
    "np.median(moves_made_per_game), total_reward"
   ]
  },
  {
   "cell_type": "code",
   "execution_count": 14,
   "metadata": {},
   "outputs": [
    {
     "data": {
      "text/plain": [
       "(4.0, -93.0)"
      ]
     },
     "execution_count": 14,
     "metadata": {},
     "output_type": "execute_result"
    }
   ],
   "source": [
    "np.median(moves_made_per_game), total_reward"
   ]
  },
  {
   "cell_type": "markdown",
   "metadata": {},
   "source": [
    "## Removed dropout"
   ]
  },
  {
   "cell_type": "code",
   "execution_count": 8,
   "metadata": {},
   "outputs": [
    {
     "data": {
      "text/plain": [
       "(6.0, -84.0)"
      ]
     },
     "execution_count": 8,
     "metadata": {},
     "output_type": "execute_result"
    }
   ],
   "source": [
    "np.median(moves_made_per_game), total_reward"
   ]
  },
  {
   "cell_type": "code",
   "execution_count": 10,
   "metadata": {},
   "outputs": [
    {
     "data": {
      "text/plain": [
       "(4.0, -55.0)"
      ]
     },
     "execution_count": 10,
     "metadata": {},
     "output_type": "execute_result"
    }
   ],
   "source": [
    "np.median(moves_made_per_game), total_reward"
   ]
  },
  {
   "cell_type": "code",
   "execution_count": 12,
   "metadata": {},
   "outputs": [
    {
     "data": {
      "text/plain": [
       "(3.0, -70.0)"
      ]
     },
     "execution_count": 12,
     "metadata": {},
     "output_type": "execute_result"
    }
   ],
   "source": [
    "np.median(moves_made_per_game), total_reward"
   ]
  },
  {
   "cell_type": "markdown",
   "metadata": {},
   "source": [
    "## Added connection from inputs to end\n",
    "also reduced the action sapce, so passing was no longer allowed."
   ]
  },
  {
   "cell_type": "code",
   "execution_count": 11,
   "metadata": {},
   "outputs": [
    {
     "data": {
      "text/plain": [
       "(8.5, -100.0)"
      ]
     },
     "execution_count": 11,
     "metadata": {},
     "output_type": "execute_result"
    }
   ],
   "source": [
    "np.median(moves_made_per_game), total_reward"
   ]
  },
  {
   "cell_type": "code",
   "execution_count": 13,
   "metadata": {},
   "outputs": [
    {
     "data": {
      "text/plain": [
       "(6.5, -100.0)"
      ]
     },
     "execution_count": 13,
     "metadata": {},
     "output_type": "execute_result"
    }
   ],
   "source": [
    "np.median(moves_made_per_game), total_reward"
   ]
  },
  {
   "cell_type": "markdown",
   "metadata": {},
   "source": [
    "## Split stones from Open board part of position"
   ]
  },
  {
   "cell_type": "code",
   "execution_count": 32,
   "metadata": {},
   "outputs": [
    {
     "data": {
      "text/plain": [
       "(20.5, -100.0)"
      ]
     },
     "execution_count": 32,
     "metadata": {},
     "output_type": "execute_result"
    }
   ],
   "source": [
    "np.median(moves_made_per_game), total_reward"
   ]
  },
  {
   "cell_type": "code",
   "execution_count": 35,
   "metadata": {},
   "outputs": [
    {
     "data": {
      "text/plain": [
       "array([[[0, 1, 0, 0, 0, 0, 1, 0, 0],\n",
       "        [0, 0, 0, 0, 0, 0, 0, 0, 0],\n",
       "        [0, 0, 0, 0, 0, 0, 0, 0, 0],\n",
       "        [1, 0, 0, 1, 0, 0, 0, 0, 0],\n",
       "        [0, 0, 0, 0, 0, 0, 1, 0, 0],\n",
       "        [1, 0, 0, 0, 0, 1, 0, 0, 0],\n",
       "        [0, 1, 0, 0, 0, 0, 0, 0, 1],\n",
       "        [1, 0, 0, 0, 0, 0, 0, 0, 0],\n",
       "        [1, 0, 0, 0, 0, 1, 1, 1, 1]],\n",
       "\n",
       "       [[0, 0, 0, 1, 0, 1, 0, 0, 0],\n",
       "        [0, 0, 0, 1, 1, 0, 0, 0, 0],\n",
       "        [0, 1, 0, 0, 0, 1, 1, 0, 0],\n",
       "        [0, 0, 1, 0, 1, 0, 0, 0, 0],\n",
       "        [0, 1, 0, 1, 1, 0, 0, 0, 0],\n",
       "        [0, 0, 1, 0, 1, 0, 0, 0, 0],\n",
       "        [0, 0, 0, 1, 0, 0, 0, 0, 0],\n",
       "        [0, 1, 1, 0, 0, 0, 0, 0, 0],\n",
       "        [0, 0, 0, 0, 0, 0, 0, 0, 0]],\n",
       "\n",
       "       [[1, 0, 1, 0, 1, 0, 0, 1, 1],\n",
       "        [1, 1, 1, 0, 0, 1, 1, 1, 1],\n",
       "        [1, 0, 1, 1, 1, 0, 0, 1, 1],\n",
       "        [0, 1, 0, 0, 0, 1, 1, 1, 1],\n",
       "        [1, 0, 1, 0, 0, 1, 0, 1, 1],\n",
       "        [0, 1, 0, 1, 0, 0, 1, 1, 1],\n",
       "        [1, 0, 1, 0, 1, 1, 1, 1, 0],\n",
       "        [0, 0, 0, 1, 1, 1, 1, 1, 1],\n",
       "        [0, 1, 1, 1, 1, 0, 0, 0, 0]]])"
      ]
     },
     "execution_count": 35,
     "metadata": {},
     "output_type": "execute_result"
    }
   ],
   "source": [
    "observations[-1]"
   ]
  },
  {
   "cell_type": "code",
   "execution_count": 37,
   "metadata": {},
   "outputs": [
    {
     "data": {
      "text/plain": [
       "array([[ 0.,  0.,  0.,  0.,  0.,  0.,  0.,  0.,  0.],\n",
       "       [ 0.,  0.,  0.,  0.,  0.,  0.,  0.,  0.,  0.],\n",
       "       [ 0.,  0.,  0.,  0.,  0.,  0.,  0.,  0.,  0.],\n",
       "       [ 0.,  0.,  0.,  0.,  0.,  0.,  0.,  0.,  0.],\n",
       "       [ 0.,  0.,  0.,  0.,  0.,  0.,  0.,  0.,  0.],\n",
       "       [ 0.,  0.,  0.,  1.,  0.,  0.,  0.,  0.,  0.],\n",
       "       [ 0.,  0.,  0.,  0.,  0.,  0.,  0.,  0.,  0.],\n",
       "       [ 0.,  0.,  0.,  0.,  0.,  0.,  0.,  0.,  0.],\n",
       "       [ 0.,  0.,  0.,  0.,  0.,  0.,  0.,  0.,  0.]])"
      ]
     },
     "execution_count": 37,
     "metadata": {},
     "output_type": "execute_result"
    }
   ],
   "source": [
    "moves[-1].reshape(9,9)"
   ]
  },
  {
   "cell_type": "code",
   "execution_count": null,
   "metadata": {},
   "outputs": [],
   "source": []
  }
 ],
 "metadata": {
  "kernelspec": {
   "display_name": "Python [conda env:openai]",
   "language": "python",
   "name": "conda-env-openai-py"
  },
  "language_info": {
   "codemirror_mode": {
    "name": "ipython",
    "version": 3
   },
   "file_extension": ".py",
   "mimetype": "text/x-python",
   "name": "python",
   "nbconvert_exporter": "python",
   "pygments_lexer": "ipython3",
   "version": "3.5.4"
  }
 },
 "nbformat": 4,
 "nbformat_minor": 2
}
