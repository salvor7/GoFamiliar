{
 "cells": [
  {
   "cell_type": "code",
   "execution_count": 1,
   "metadata": {},
   "outputs": [
    {
     "name": "stderr",
     "output_type": "stream",
     "text": [
      "Using TensorFlow backend.\n"
     ]
    }
   ],
   "source": [
    "import numpy as np\n",
    "import keras"
   ]
  },
  {
   "cell_type": "code",
   "execution_count": 2,
   "metadata": {},
   "outputs": [
    {
     "name": "stderr",
     "output_type": "stream",
     "text": [
      "[2017-10-04 23:58:51,949] Making new env: Go9x9-v0\n"
     ]
    }
   ],
   "source": [
    "import gym\n",
    "env = gym.make('Go9x9-v0')"
   ]
  },
  {
   "cell_type": "code",
   "execution_count": 3,
   "metadata": {},
   "outputs": [],
   "source": [
    "import importlib"
   ]
  },
  {
   "cell_type": "code",
   "execution_count": 4,
   "metadata": {},
   "outputs": [],
   "source": [
    "def opponent(position1st, position2nd):\n",
    "    \"\"\"Return the opponent move with the position they saw\n",
    "    \n",
    "    Go9x9 gym environment makes whites moves automatically, so \n",
    "    it is not as easy to capture their state and move for training\n",
    "    as it is for the black moves.\n",
    "    This method calculates the position the white player saw and the \n",
    "    move they took in that position.\n",
    "    \n",
    "    :param positions___: np.array    3x9x9 arrays\n",
    "    :return: (np.array, int)         (3x9x9 observation array, move integer)\n",
    "    \"\"\"\n",
    "    mask = (position1st - position2nd)[1,:,:]\n",
    "    if np.all(mask == 0):\n",
    "        opp_move = 81\n",
    "    else:\n",
    "        opp_move = np.argmin(mask.reshape(81))\n",
    "    \n",
    "    mask = np.concatenate([np.zeros((1,9,9)), mask.reshape(1,9,9), -mask.reshape(1,9,9)],)\n",
    "    opp_position = position2nd + mask\n",
    "\n",
    "    return opp_position, opp_move"
   ]
  },
  {
   "cell_type": "code",
   "execution_count": 5,
   "metadata": {},
   "outputs": [
    {
     "data": {
      "text/plain": [
       "<module 'nn.policy9x9' from '/Users/andrew.brown/projects/GoFamiliar/src/nn/policy9x9.py'>"
      ]
     },
     "execution_count": 5,
     "metadata": {},
     "output_type": "execute_result"
    }
   ],
   "source": [
    "import paths\n",
    "from nn import policy9x9\n",
    "importlib.reload(policy9x9)"
   ]
  },
  {
   "cell_type": "code",
   "execution_count": 6,
   "metadata": {
    "scrolled": false
   },
   "outputs": [
    {
     "name": "stdout",
     "output_type": "stream",
     "text": [
      "____________________________________________________________________________________________________\n",
      "Layer (type)                     Output Shape          Param #     Connected to                     \n",
      "====================================================================================================\n",
      "input_1 (InputLayer)             (None, 2, 9, 9)       0                                            \n",
      "____________________________________________________________________________________________________\n",
      "zero_padding2d_1 (ZeroPadding2D) (None, 4, 11, 9)      0           input_1[0][0]                    \n",
      "____________________________________________________________________________________________________\n",
      "conv2d_1 (Conv2D)                (None, 2, 9, 32)      2624        zero_padding2d_1[0][0]           \n",
      "____________________________________________________________________________________________________\n",
      "zero_padding2d_2 (ZeroPadding2D) (None, 4, 11, 32)     0           conv2d_1[0][0]                   \n",
      "____________________________________________________________________________________________________\n",
      "conv2d_2 (Conv2D)                (None, 2, 9, 32)      9248        zero_padding2d_2[0][0]           \n",
      "____________________________________________________________________________________________________\n",
      "flatten_2 (Flatten)              (None, 576)           0           conv2d_2[0][0]                   \n",
      "____________________________________________________________________________________________________\n",
      "dense_1 (Dense)                  (None, 1024)          590848      flatten_2[0][0]                  \n",
      "____________________________________________________________________________________________________\n",
      "batch_normalization_1 (BatchNorm (None, 1024)          4096        dense_1[0][0]                    \n",
      "____________________________________________________________________________________________________\n",
      "dense_2 (Dense)                  (None, 1024)          1049600     batch_normalization_1[0][0]      \n",
      "____________________________________________________________________________________________________\n",
      "batch_normalization_2 (BatchNorm (None, 1024)          4096        dense_2[0][0]                    \n",
      "____________________________________________________________________________________________________\n",
      "input_2 (InputLayer)             (None, 9, 9)          0                                            \n",
      "____________________________________________________________________________________________________\n",
      "dense_3 (Dense)                  (None, 81)            83025       batch_normalization_2[0][0]      \n",
      "____________________________________________________________________________________________________\n",
      "flatten_1 (Flatten)              (None, 81)            0           input_2[0][0]                    \n",
      "____________________________________________________________________________________________________\n",
      "multiply_1 (Multiply)            (None, 81)            0           dense_3[0][0]                    \n",
      "                                                                   flatten_1[0][0]                  \n",
      "====================================================================================================\n",
      "Total params: 1,743,537\n",
      "Trainable params: 1,739,441\n",
      "Non-trainable params: 4,096\n",
      "____________________________________________________________________________________________________\n",
      "None\n"
     ]
    }
   ],
   "source": [
    "net = policy9x9.PolicyNet()"
   ]
  },
  {
   "cell_type": "code",
   "execution_count": 9,
   "metadata": {},
   "outputs": [
    {
     "name": "stdout",
     "output_type": "stream",
     "text": [
      "**************************************************  26.5 -50.0\n",
      "**************************************************  29.5 -50.0\n",
      "**************************************************  24.0 -50.0\n",
      "**************************************************  28.0 -50.0\n",
      "**************************************************  28.0 -50.0\n",
      "**************************************************  27.0 -50.0\n",
      "**************************************************  24.5 -50.0\n",
      "**************************************************  26.5 -50.0\n",
      "**************************************************  27.0 -50.0\n",
      "**************************************************  29.0 -50.0\n",
      "**************************************************  27.0 -50.0\n",
      "**************************************************  27.0 -50.0\n",
      "**************************************************  28.0 -50.0\n",
      "**************************************************  30.0 -50.0\n",
      "**************************************************  25.0 -50.0\n",
      "**************************************************  26.5 -50.0\n",
      "**************************************************  26.0 -50.0\n",
      "**************************************************  27.0 -50.0\n",
      "**************************************************  24.0 -50.0\n",
      "**************************************************  27.0 -50.0\n",
      "**************************************************  24.0 -50.0\n",
      "**************************************************  25.5 -50.0\n",
      "**************************************************  23.5 -50.0\n",
      "**************************************************  27.0 -50.0\n",
      "**************************************************  23.0 -50.0\n",
      "**************************************************  26.5 -50.0\n",
      "**************************************************  22.0 -50.0\n",
      "**************************************************  26.0 -50.0\n",
      "**************************************************  24.0 -50.0\n",
      "**************************************************  26.0 -50.0\n",
      "**************************************************  22.0 -50.0\n",
      "**************************************************  27.0 -50.0\n",
      "**************************************************  23.0 -50.0\n",
      "**************************************************  26.0 -50.0\n",
      "**************************************************  23.5 -50.0\n",
      "**************************************************  26.0 -50.0\n",
      "**************************************************  23.0 -50.0\n",
      "**************************************************  27.5 -50.0\n",
      "**************************************************  22.0 -50.0\n",
      "**************************************************  24.0 -50.0\n",
      "**************************************************  22.5 -50.0\n",
      "**************************************************  28.0 -50.0\n",
      "**************************************************  23.0 -50.0\n",
      "**************************************************  25.0 -50.0\n",
      "**************************************************  22.0 -50.0\n",
      "**************************************************  26.5 -50.0\n",
      "**************************************************  22.0 -50.0\n",
      "**************************************************  26.5 -50.0\n",
      "**************************************************  21.0 -50.0\n",
      "**************************************"
     ]
    },
    {
     "ename": "KeyboardInterrupt",
     "evalue": "",
     "output_type": "error",
     "traceback": [
      "\u001b[0;31m---------------------------------------------------------------------------\u001b[0m",
      "\u001b[0;31mKeyboardInterrupt\u001b[0m                         Traceback (most recent call last)",
      "\u001b[0;32m<ipython-input-9-3e76f7c526ca>\u001b[0m in \u001b[0;36m<module>\u001b[0;34m()\u001b[0m\n\u001b[1;32m     19\u001b[0m             \u001b[0mobservations\u001b[0m\u001b[0;34m.\u001b[0m\u001b[0mappend\u001b[0m\u001b[0;34m(\u001b[0m\u001b[0mobser\u001b[0m\u001b[0;34m)\u001b[0m\u001b[0;34m\u001b[0m\u001b[0m\n\u001b[1;32m     20\u001b[0m             \u001b[0mmove\u001b[0m \u001b[0;34m=\u001b[0m \u001b[0mnet\u001b[0m\u001b[0;34m.\u001b[0m\u001b[0mmove\u001b[0m\u001b[0;34m(\u001b[0m\u001b[0mposition\u001b[0m\u001b[0;34m=\u001b[0m\u001b[0mobser\u001b[0m\u001b[0;34m)\u001b[0m\u001b[0;34m\u001b[0m\u001b[0m\n\u001b[0;32m---> 21\u001b[0;31m             \u001b[0mobser\u001b[0m\u001b[0;34m,\u001b[0m \u001b[0mreward\u001b[0m\u001b[0;34m,\u001b[0m \u001b[0mdone\u001b[0m\u001b[0;34m,\u001b[0m \u001b[0minfo\u001b[0m \u001b[0;34m=\u001b[0m \u001b[0menv\u001b[0m\u001b[0;34m.\u001b[0m\u001b[0mstep\u001b[0m\u001b[0;34m(\u001b[0m\u001b[0mmove\u001b[0m\u001b[0;34m)\u001b[0m\u001b[0;34m\u001b[0m\u001b[0m\n\u001b[0m\u001b[1;32m     22\u001b[0m \u001b[0;34m\u001b[0m\u001b[0m\n\u001b[1;32m     23\u001b[0m             \u001b[0mmoves\u001b[0m\u001b[0;34m.\u001b[0m\u001b[0mappend\u001b[0m\u001b[0;34m(\u001b[0m\u001b[0mmove\u001b[0m\u001b[0;34m)\u001b[0m\u001b[0;34m\u001b[0m\u001b[0m\n",
      "\u001b[0;32m~/anaconda/envs/openai/gym/gym/core.py\u001b[0m in \u001b[0;36mstep\u001b[0;34m(self, action)\u001b[0m\n\u001b[1;32m     94\u001b[0m             \u001b[0minfo\u001b[0m \u001b[0;34m(\u001b[0m\u001b[0mdict\u001b[0m\u001b[0;34m)\u001b[0m\u001b[0;34m:\u001b[0m \u001b[0mcontains\u001b[0m \u001b[0mauxiliary\u001b[0m \u001b[0mdiagnostic\u001b[0m \u001b[0minformation\u001b[0m \u001b[0;34m(\u001b[0m\u001b[0mhelpful\u001b[0m \u001b[0;32mfor\u001b[0m \u001b[0mdebugging\u001b[0m\u001b[0;34m,\u001b[0m \u001b[0;32mand\u001b[0m \u001b[0msometimes\u001b[0m \u001b[0mlearning\u001b[0m\u001b[0;34m)\u001b[0m\u001b[0;34m\u001b[0m\u001b[0m\n\u001b[1;32m     95\u001b[0m         \"\"\"\n\u001b[0;32m---> 96\u001b[0;31m         \u001b[0;32mreturn\u001b[0m \u001b[0mself\u001b[0m\u001b[0;34m.\u001b[0m\u001b[0m_step\u001b[0m\u001b[0;34m(\u001b[0m\u001b[0maction\u001b[0m\u001b[0;34m)\u001b[0m\u001b[0;34m\u001b[0m\u001b[0m\n\u001b[0m\u001b[1;32m     97\u001b[0m \u001b[0;34m\u001b[0m\u001b[0m\n\u001b[1;32m     98\u001b[0m     \u001b[0;32mdef\u001b[0m \u001b[0mreset\u001b[0m\u001b[0;34m(\u001b[0m\u001b[0mself\u001b[0m\u001b[0;34m)\u001b[0m\u001b[0;34m:\u001b[0m\u001b[0;34m\u001b[0m\u001b[0m\n",
      "\u001b[0;32m~/anaconda/envs/openai/gym/gym/envs/board_game/go.py\u001b[0m in \u001b[0;36m_step\u001b[0;34m(self, action)\u001b[0m\n\u001b[1;32m    233\u001b[0m         \u001b[0;31m# Opponent play\u001b[0m\u001b[0;34m\u001b[0m\u001b[0;34m\u001b[0m\u001b[0m\n\u001b[1;32m    234\u001b[0m         \u001b[0;32mif\u001b[0m \u001b[0;32mnot\u001b[0m \u001b[0mself\u001b[0m\u001b[0;34m.\u001b[0m\u001b[0mstate\u001b[0m\u001b[0;34m.\u001b[0m\u001b[0mboard\u001b[0m\u001b[0;34m.\u001b[0m\u001b[0mis_terminal\u001b[0m\u001b[0;34m:\u001b[0m\u001b[0;34m\u001b[0m\u001b[0m\n\u001b[0;32m--> 235\u001b[0;31m             \u001b[0mself\u001b[0m\u001b[0;34m.\u001b[0m\u001b[0mstate\u001b[0m\u001b[0;34m,\u001b[0m \u001b[0mopponent_resigned\u001b[0m \u001b[0;34m=\u001b[0m \u001b[0mself\u001b[0m\u001b[0;34m.\u001b[0m\u001b[0m_exec_opponent_play\u001b[0m\u001b[0;34m(\u001b[0m\u001b[0mself\u001b[0m\u001b[0;34m.\u001b[0m\u001b[0mstate\u001b[0m\u001b[0;34m,\u001b[0m \u001b[0mprev_state\u001b[0m\u001b[0;34m,\u001b[0m \u001b[0maction\u001b[0m\u001b[0;34m)\u001b[0m\u001b[0;34m\u001b[0m\u001b[0m\n\u001b[0m\u001b[1;32m    236\u001b[0m             \u001b[0;31m# After opponent play, we should be back to the original color\u001b[0m\u001b[0;34m\u001b[0m\u001b[0;34m\u001b[0m\u001b[0m\n\u001b[1;32m    237\u001b[0m             \u001b[0;32massert\u001b[0m \u001b[0mself\u001b[0m\u001b[0;34m.\u001b[0m\u001b[0mstate\u001b[0m\u001b[0;34m.\u001b[0m\u001b[0mcolor\u001b[0m \u001b[0;34m==\u001b[0m \u001b[0mself\u001b[0m\u001b[0;34m.\u001b[0m\u001b[0mplayer_color\u001b[0m\u001b[0;34m\u001b[0m\u001b[0m\n",
      "\u001b[0;32m~/anaconda/envs/openai/gym/gym/envs/board_game/go.py\u001b[0m in \u001b[0;36m_exec_opponent_play\u001b[0;34m(self, curr_state, prev_state, prev_action)\u001b[0m\n\u001b[1;32m    258\u001b[0m     \u001b[0;32mdef\u001b[0m \u001b[0m_exec_opponent_play\u001b[0m\u001b[0;34m(\u001b[0m\u001b[0mself\u001b[0m\u001b[0;34m,\u001b[0m \u001b[0mcurr_state\u001b[0m\u001b[0;34m,\u001b[0m \u001b[0mprev_state\u001b[0m\u001b[0;34m,\u001b[0m \u001b[0mprev_action\u001b[0m\u001b[0;34m)\u001b[0m\u001b[0;34m:\u001b[0m\u001b[0;34m\u001b[0m\u001b[0m\n\u001b[1;32m    259\u001b[0m         \u001b[0;32massert\u001b[0m \u001b[0mcurr_state\u001b[0m\u001b[0;34m.\u001b[0m\u001b[0mcolor\u001b[0m \u001b[0;34m!=\u001b[0m \u001b[0mself\u001b[0m\u001b[0;34m.\u001b[0m\u001b[0mplayer_color\u001b[0m\u001b[0;34m\u001b[0m\u001b[0m\n\u001b[0;32m--> 260\u001b[0;31m         \u001b[0mopponent_action\u001b[0m \u001b[0;34m=\u001b[0m \u001b[0mself\u001b[0m\u001b[0;34m.\u001b[0m\u001b[0mopponent_policy\u001b[0m\u001b[0;34m(\u001b[0m\u001b[0mcurr_state\u001b[0m\u001b[0;34m,\u001b[0m \u001b[0mprev_state\u001b[0m\u001b[0;34m,\u001b[0m \u001b[0mprev_action\u001b[0m\u001b[0;34m)\u001b[0m\u001b[0;34m\u001b[0m\u001b[0m\n\u001b[0m\u001b[1;32m    261\u001b[0m         \u001b[0mopponent_resigned\u001b[0m \u001b[0;34m=\u001b[0m \u001b[0mopponent_action\u001b[0m \u001b[0;34m==\u001b[0m \u001b[0m_resign_action\u001b[0m\u001b[0;34m(\u001b[0m\u001b[0mself\u001b[0m\u001b[0;34m.\u001b[0m\u001b[0mboard_size\u001b[0m\u001b[0;34m)\u001b[0m\u001b[0;34m\u001b[0m\u001b[0m\n\u001b[1;32m    262\u001b[0m         \u001b[0;32mreturn\u001b[0m \u001b[0mcurr_state\u001b[0m\u001b[0;34m.\u001b[0m\u001b[0mact\u001b[0m\u001b[0;34m(\u001b[0m\u001b[0mopponent_action\u001b[0m\u001b[0;34m)\u001b[0m\u001b[0;34m,\u001b[0m \u001b[0mopponent_resigned\u001b[0m\u001b[0;34m\u001b[0m\u001b[0m\n",
      "\u001b[0;32m~/anaconda/envs/openai/gym/gym/envs/board_game/go.py\u001b[0m in \u001b[0;36mpachi_policy\u001b[0;34m(curr_state, prev_state, prev_action)\u001b[0m\n\u001b[1;32m     89\u001b[0m             \u001b[0mengine\u001b[0m\u001b[0;34m.\u001b[0m\u001b[0mnotify\u001b[0m\u001b[0;34m(\u001b[0m\u001b[0mprev_coord\u001b[0m\u001b[0;34m,\u001b[0m \u001b[0mprev_state\u001b[0m\u001b[0;34m.\u001b[0m\u001b[0mcolor\u001b[0m\u001b[0;34m)\u001b[0m\u001b[0;34m\u001b[0m\u001b[0m\n\u001b[1;32m     90\u001b[0m             \u001b[0mengine\u001b[0m\u001b[0;34m.\u001b[0m\u001b[0mcurr_board\u001b[0m\u001b[0;34m.\u001b[0m\u001b[0mplay_inplace\u001b[0m\u001b[0;34m(\u001b[0m\u001b[0mprev_coord\u001b[0m\u001b[0;34m,\u001b[0m \u001b[0mprev_state\u001b[0m\u001b[0;34m.\u001b[0m\u001b[0mcolor\u001b[0m\u001b[0;34m)\u001b[0m\u001b[0;34m\u001b[0m\u001b[0m\n\u001b[0;32m---> 91\u001b[0;31m         \u001b[0mout_coord\u001b[0m \u001b[0;34m=\u001b[0m \u001b[0mengine\u001b[0m\u001b[0;34m.\u001b[0m\u001b[0mgenmove\u001b[0m\u001b[0;34m(\u001b[0m\u001b[0mcurr_state\u001b[0m\u001b[0;34m.\u001b[0m\u001b[0mcolor\u001b[0m\u001b[0;34m,\u001b[0m \u001b[0mpachi_timestr\u001b[0m\u001b[0;34m)\u001b[0m\u001b[0;34m\u001b[0m\u001b[0m\n\u001b[0m\u001b[1;32m     92\u001b[0m         \u001b[0mout_action\u001b[0m \u001b[0;34m=\u001b[0m \u001b[0m_coord_to_action\u001b[0m\u001b[0;34m(\u001b[0m\u001b[0mcurr_state\u001b[0m\u001b[0;34m.\u001b[0m\u001b[0mboard\u001b[0m\u001b[0;34m,\u001b[0m \u001b[0mout_coord\u001b[0m\u001b[0;34m)\u001b[0m\u001b[0;34m\u001b[0m\u001b[0m\n\u001b[1;32m     93\u001b[0m         \u001b[0mengine\u001b[0m\u001b[0;34m.\u001b[0m\u001b[0mcurr_board\u001b[0m\u001b[0;34m.\u001b[0m\u001b[0mplay_inplace\u001b[0m\u001b[0;34m(\u001b[0m\u001b[0mout_coord\u001b[0m\u001b[0;34m,\u001b[0m \u001b[0mcurr_state\u001b[0m\u001b[0;34m.\u001b[0m\u001b[0mcolor\u001b[0m\u001b[0;34m)\u001b[0m\u001b[0;34m\u001b[0m\u001b[0m\n",
      "\u001b[0;31mKeyboardInterrupt\u001b[0m: "
     ]
    }
   ],
   "source": [
    "for epoch in range(500):\n",
    "    observations = []\n",
    "    actionrewards = np.empty(shape=(0,len(policy9x9.ACTION_SPACE)))\n",
    "\n",
    "    opp_observations = []\n",
    "    opp_actionrewards = np.empty(shape=(0,len(policy9x9.ACTION_SPACE)))\n",
    "    \n",
    "    moves_made_per_game = []\n",
    "    total_reward = 0\n",
    "    \n",
    "    for game in range(50):\n",
    "        moves = []\n",
    "        opp_moves = []\n",
    "\n",
    "        obser = env.reset()    \n",
    "        done = False\n",
    "\n",
    "        while not done:\n",
    "            observations.append(obser)\n",
    "            move = net.move(position=obser)\n",
    "            obser, reward, done, info = env.step(move)\n",
    "\n",
    "            moves.append(move)\n",
    "\n",
    "            opp_obser, opp_move = opponent(observations[-1], obser)\n",
    "            if opp_move < 81:\n",
    "                opp_observations.append(opp_obser)\n",
    "                opp_moves.append(opp_move)\n",
    "        moves_made_per_game.append(len(moves))\n",
    "        total_reward += reward\n",
    "\n",
    "        moves_arr = keras.utils.to_categorical(np.array(moves), num_classes=len(policy9x9.ACTION_SPACE))\n",
    "        actionrewards = np.concatenate([actionrewards, moves_arr * reward], axis=0)    # uses the final reward as the reward for all moves\n",
    "\n",
    "        opp_moves_arr = keras.utils.to_categorical(np.array(opp_moves), num_classes=len(policy9x9.ACTION_SPACE))\n",
    "        opp_actionrewards = np.concatenate([opp_actionrewards, opp_moves_arr * (-reward)], axis=0)\n",
    "        print('*', end='')\n",
    "    observations = np.array(observations)\n",
    "    opp_observations = np.array(opp_observations)\n",
    "\n",
    "    net.train(observations=observations, actionrewards=actionrewards, verbose=0, epochs=5)\n",
    "    net.train(observations=opp_observations, actionrewards=opp_actionrewards, verbose=0, epochs=5)\n",
    "\n",
    "    print(' ', np.median(moves_made_per_game), total_reward)"
   ]
  },
  {
   "cell_type": "markdown",
   "metadata": {},
   "source": [
    "## Original"
   ]
  },
  {
   "cell_type": "code",
   "execution_count": 10,
   "metadata": {},
   "outputs": [
    {
     "data": {
      "text/plain": [
       "(4.0, -89.0)"
      ]
     },
     "execution_count": 10,
     "metadata": {},
     "output_type": "execute_result"
    }
   ],
   "source": [
    "np.median(moves_made_per_game), total_reward"
   ]
  },
  {
   "cell_type": "code",
   "execution_count": 12,
   "metadata": {},
   "outputs": [
    {
     "data": {
      "text/plain": [
       "(4.0, -91.0)"
      ]
     },
     "execution_count": 12,
     "metadata": {},
     "output_type": "execute_result"
    }
   ],
   "source": [
    "np.median(moves_made_per_game), total_reward"
   ]
  },
  {
   "cell_type": "code",
   "execution_count": 14,
   "metadata": {},
   "outputs": [
    {
     "data": {
      "text/plain": [
       "(4.0, -93.0)"
      ]
     },
     "execution_count": 14,
     "metadata": {},
     "output_type": "execute_result"
    }
   ],
   "source": [
    "np.median(moves_made_per_game), total_reward"
   ]
  },
  {
   "cell_type": "markdown",
   "metadata": {},
   "source": [
    "## Removed dropout"
   ]
  },
  {
   "cell_type": "code",
   "execution_count": 8,
   "metadata": {},
   "outputs": [
    {
     "data": {
      "text/plain": [
       "(6.0, -84.0)"
      ]
     },
     "execution_count": 8,
     "metadata": {},
     "output_type": "execute_result"
    }
   ],
   "source": [
    "np.median(moves_made_per_game), total_reward"
   ]
  },
  {
   "cell_type": "code",
   "execution_count": 10,
   "metadata": {},
   "outputs": [
    {
     "data": {
      "text/plain": [
       "(4.0, -55.0)"
      ]
     },
     "execution_count": 10,
     "metadata": {},
     "output_type": "execute_result"
    }
   ],
   "source": [
    "np.median(moves_made_per_game), total_reward"
   ]
  },
  {
   "cell_type": "code",
   "execution_count": 12,
   "metadata": {},
   "outputs": [
    {
     "data": {
      "text/plain": [
       "(3.0, -70.0)"
      ]
     },
     "execution_count": 12,
     "metadata": {},
     "output_type": "execute_result"
    }
   ],
   "source": [
    "np.median(moves_made_per_game), total_reward"
   ]
  },
  {
   "cell_type": "markdown",
   "metadata": {},
   "source": [
    "## Added connection from inputs to end\n",
    "also reduced the action sapce, so passing was no longer allowed."
   ]
  },
  {
   "cell_type": "code",
   "execution_count": 11,
   "metadata": {},
   "outputs": [
    {
     "data": {
      "text/plain": [
       "(8.5, -100.0)"
      ]
     },
     "execution_count": 11,
     "metadata": {},
     "output_type": "execute_result"
    }
   ],
   "source": [
    "np.median(moves_made_per_game), total_reward"
   ]
  },
  {
   "cell_type": "code",
   "execution_count": 13,
   "metadata": {},
   "outputs": [
    {
     "data": {
      "text/plain": [
       "(6.5, -100.0)"
      ]
     },
     "execution_count": 13,
     "metadata": {},
     "output_type": "execute_result"
    }
   ],
   "source": [
    "np.median(moves_made_per_game), total_reward"
   ]
  },
  {
   "cell_type": "markdown",
   "metadata": {},
   "source": [
    "## Split stones from Open board part of position"
   ]
  },
  {
   "cell_type": "code",
   "execution_count": 32,
   "metadata": {},
   "outputs": [
    {
     "data": {
      "text/plain": [
       "(20.5, -100.0)"
      ]
     },
     "execution_count": 32,
     "metadata": {},
     "output_type": "execute_result"
    }
   ],
   "source": [
    "np.median(moves_made_per_game), total_reward"
   ]
  },
  {
   "cell_type": "code",
   "execution_count": 39,
   "metadata": {},
   "outputs": [
    {
     "data": {
      "text/plain": [
       "(20.0, -100.0)"
      ]
     },
     "execution_count": 39,
     "metadata": {},
     "output_type": "execute_result"
    }
   ],
   "source": [
    "np.median(moves_made_per_game), total_reward"
   ]
  },
  {
   "cell_type": "code",
   "execution_count": 41,
   "metadata": {},
   "outputs": [
    {
     "data": {
      "text/plain": [
       "(20.0, -100.0)"
      ]
     },
     "execution_count": 41,
     "metadata": {},
     "output_type": "execute_result"
    }
   ],
   "source": [
    "np.median(moves_made_per_game), total_reward"
   ]
  },
  {
   "cell_type": "code",
   "execution_count": 55,
   "metadata": {},
   "outputs": [
    {
     "data": {
      "text/plain": [
       "(array([[ 0.,  0.,  0.,  0.,  0.,  0.,  0.,  0.,  0.],\n",
       "        [ 0.,  0.,  0.,  0.,  0.,  0.,  0.,  0.,  0.],\n",
       "        [ 0.,  0.,  0.,  0.,  0.,  1.,  0.,  0.,  0.],\n",
       "        [ 0.,  0.,  0.,  0.,  0.,  0.,  0.,  0.,  0.],\n",
       "        [ 0.,  0.,  0.,  0.,  0.,  0.,  0.,  0.,  0.],\n",
       "        [ 0.,  0.,  0.,  0.,  0.,  0.,  0.,  0.,  0.],\n",
       "        [ 0.,  0.,  0.,  0.,  0.,  0.,  0.,  0.,  0.],\n",
       "        [ 0.,  0.,  0.,  0.,  0.,  0.,  0.,  0.,  0.],\n",
       "        [ 0.,  0.,  0.,  0.,  0.,  0.,  0.,  0.,  0.]]),\n",
       " {'state': To play: black\n",
       "  Move:  28  Komi: 0.0  Handicap: 0  Captures B: 0 W: 1\n",
       "        A B C D E F G H J  \n",
       "      +-------------------+\n",
       "    9 | . . . X . . X . . |\n",
       "    8 | . . . X . O O X . |\n",
       "    7 | . . O O O . O O . |\n",
       "    6 | . . O X X O). . . |\n",
       "    5 | . . O . . . . . . |\n",
       "    4 | . . . O X . . O . |\n",
       "    3 | . . . . . . . O X |\n",
       "    2 | X X . . O . . . . |\n",
       "    1 | . . . . X X . X . |\n",
       "      +-------------------+})"
      ]
     },
     "execution_count": 55,
     "metadata": {},
     "output_type": "execute_result"
    }
   ],
   "source": [
    "moves[-1].reshape(9,9), info"
   ]
  },
  {
   "cell_type": "markdown",
   "metadata": {},
   "source": [
    "## Started training in batches of 10"
   ]
  },
  {
   "cell_type": "code",
   "execution_count": 31,
   "metadata": {},
   "outputs": [
    {
     "data": {
      "text/plain": [
       "(26.5, -10.0)"
      ]
     },
     "execution_count": 31,
     "metadata": {},
     "output_type": "execute_result"
    }
   ],
   "source": [
    "np.median(moves_made_per_game), total_reward"
   ]
  },
  {
   "cell_type": "code",
   "execution_count": 42,
   "metadata": {},
   "outputs": [
    {
     "data": {
      "text/plain": [
       "(25.0, -10.0)"
      ]
     },
     "execution_count": 42,
     "metadata": {},
     "output_type": "execute_result"
    }
   ],
   "source": [
    "np.median(moves_made_per_game), total_reward"
   ]
  },
  {
   "cell_type": "code",
   "execution_count": 39,
   "metadata": {},
   "outputs": [
    {
     "data": {
      "text/plain": [
       "array([ 0.001     ,  0.        ,  0.        ,  0.99900001,  0.        ,\n",
       "        0.        ,  0.006     ,  0.001     ,  0.002     ,  0.        ,\n",
       "        0.        ,  0.        ,  0.        ,  0.        ,  0.        ,\n",
       "        0.        ,  0.        ,  0.001     ,  0.        ,  0.        ,\n",
       "        0.        ,  0.        ,  0.        ,  0.        ,  0.003     ,\n",
       "        0.        ,  0.001     ,  0.001     ,  0.        ,  0.        ,\n",
       "        0.        ,  1.        ,  0.        ,  0.        ,  0.995     ,\n",
       "        0.015     ,  0.        ,  0.        ,  0.        ,  0.        ,\n",
       "        0.        ,  0.        ,  0.        ,  0.        ,  0.        ,\n",
       "        0.20100001,  0.001     ,  0.        ,  0.        ,  0.        ,\n",
       "        0.96200001,  0.        ,  0.        ,  0.28299999,  0.029     ,\n",
       "        0.        ,  0.        ,  0.        ,  0.001     ,  0.        ,\n",
       "        0.        ,  0.        ,  0.        ,  0.001     ,  0.        ,\n",
       "        0.        ,  0.        ,  0.        ,  0.131     ,  0.        ,\n",
       "        0.005     ,  0.001     ,  0.01      ,  0.        ,  0.        ,\n",
       "        0.044     ,  0.        ,  0.        ,  0.029     ,  0.        ,  0.        ], dtype=float32)"
      ]
     },
     "execution_count": 39,
     "metadata": {},
     "output_type": "execute_result"
    }
   ],
   "source": [
    "np.round(net.probailities(observations[-1]), decimals=3)"
   ]
  },
  {
   "cell_type": "code",
   "execution_count": 41,
   "metadata": {},
   "outputs": [
    {
     "data": {
      "text/plain": [
       "28"
      ]
     },
     "execution_count": 41,
     "metadata": {},
     "output_type": "execute_result"
    }
   ],
   "source": [
    "len(moves)"
   ]
  },
  {
   "cell_type": "code",
   "execution_count": null,
   "metadata": {},
   "outputs": [],
   "source": []
  }
 ],
 "metadata": {
  "kernelspec": {
   "display_name": "Python [conda env:gofamiliar]",
   "language": "python",
   "name": "conda-env-gofamiliar-py"
  },
  "language_info": {
   "codemirror_mode": {
    "name": "ipython",
    "version": 3
   },
   "file_extension": ".py",
   "mimetype": "text/x-python",
   "name": "python",
   "nbconvert_exporter": "python",
   "pygments_lexer": "ipython3",
   "version": "3.6.2"
  }
 },
 "nbformat": 4,
 "nbformat_minor": 2
}
